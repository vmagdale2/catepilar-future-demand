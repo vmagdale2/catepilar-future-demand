{
  "nbformat": 4,
  "nbformat_minor": 0,
  "metadata": {
    "colab": {
      "provenance": [],
      "gpuType": "L4",
      "toc_visible": true,
      "collapsed_sections": [
        "5t7y_1lKtXFR"
      ]
    },
    "kernelspec": {
      "name": "python3",
      "display_name": "Python 3"
    },
    "language_info": {
      "name": "python"
    },
    "accelerator": "GPU"
  },
  "cells": [
    {
      "cell_type": "markdown",
      "source": [
        "Tunning on second run:\n",
        "\n",
        "**Linear regression** - none. keeping this baseline\n",
        "\n",
        "**Decision tree** - likely overfitting.\n",
        "  1. max_depth = btwn 6 to 12\n",
        "  2. min_samples_leaf = 5 to 10\n",
        "  3. add max_features = auto, sqrt, log2\n",
        "  4. min_samples_split from [10, 20, 50] to [2, 5, 10]\n",
        "  5. add cross validation\n",
        "\n",
        "**Random Forest** - best performer. Can and should still be tweaked.\n",
        "  1. n_estimators from 100 to [100, 300, 500]\n",
        "  2. max_depth from 200 to [10, 20, 30]\n",
        "  3. add max_features = auto, sqrt\n",
        "  4. min_samples_leaf from 5 to [1, 3, 5]\n",
        "  5. add bootstrap: [True, False]\n",
        "  6. *maybe* use RandomizedSearchCV\n",
        "  7. *maybe* max_features='sqrt' + min_samples_leaf>5 to prevent overfitting\n",
        "\n",
        "**XGBoost** - will tune\n",
        "  1. n_estimators\n",
        "  2. learning_rate\n",
        "  3. max_depth\n",
        "  4. subsample\n",
        "  5. colsample_bytree\n",
        "  6. reg_alpha\n",
        "  7. reg_lambda\n",
        "  8. *maybe* early stopping with val set\n",
        "\n",
        "**LightGBM** - underwhelming. Going to leave this one alone for now.\n",
        "\n",
        "**CatBoost** - fine to leave alone. The other ones are more promising.\n",
        "\n",
        "**Neural Network** - needs severe tuning efforts.\n",
        "  1. features need to be standardized\n",
        "  2. more layers\n",
        "  3. add dropout\n",
        "  4. *maybe* use callbacks\n",
        "  5. experiment with MAE\n",
        "  6. log(SalePrice)\n",
        "  7. if things work out for this model, then I might consider ensambling."
      ],
      "metadata": {
        "id": "c0XN0CBCBwSZ"
      }
    },
    {
      "cell_type": "markdown",
      "source": [
        "# Setup"
      ],
      "metadata": {
        "id": "ecXbwelcBjau"
      }
    },
    {
      "cell_type": "code",
      "source": [
        "import pandas as pd"
      ],
      "metadata": {
        "id": "3oJpqB2XjLIi"
      },
      "execution_count": 3,
      "outputs": []
    },
    {
      "cell_type": "code",
      "execution_count": 4,
      "metadata": {
        "id": "yqlxjj9uiR1o"
      },
      "outputs": [],
      "source": [
        "test_df = pd.read_csv('test_df_MR_lite.csv')\n",
        "train_df = pd.read_csv('train_df_lite_withsolution.csv')\n",
        "valid_df = pd.read_csv('valid_with_solution_MR.csv')"
      ]
    },
    {
      "cell_type": "code",
      "source": [
        "test_df.columns"
      ],
      "metadata": {
        "colab": {
          "base_uri": "https://localhost:8080/"
        },
        "id": "8FfyCxXEiXZF",
        "outputId": "3c685e35-106b-4ee1-d7a1-ad06874dc0bd"
      },
      "execution_count": 5,
      "outputs": [
        {
          "output_type": "execute_result",
          "data": {
            "text/plain": [
              "Index(['fiModelDescriptor_freq', 'ProductSize_Large / Medium',\n",
              "       'ProductGroup_SSL', 'Ripper_Yes', 'ProductSize_Medium',\n",
              "       'ProductSize_Large', 'Enclosure_EROPS w AC', 'UnemploymentRate',\n",
              "       'fiSecondaryDesc_freq', 'Estimated_Hours_log'],\n",
              "      dtype='object')"
            ]
          },
          "metadata": {},
          "execution_count": 5
        }
      ]
    },
    {
      "cell_type": "code",
      "source": [
        "test_df.shape"
      ],
      "metadata": {
        "colab": {
          "base_uri": "https://localhost:8080/"
        },
        "id": "TD8Dr_NmjYNP",
        "outputId": "b5e16988-95f7-4726-a8e8-cf8e36b602a7"
      },
      "execution_count": 6,
      "outputs": [
        {
          "output_type": "execute_result",
          "data": {
            "text/plain": [
              "(12457, 10)"
            ]
          },
          "metadata": {},
          "execution_count": 6
        }
      ]
    },
    {
      "cell_type": "code",
      "source": [
        "train_df.columns"
      ],
      "metadata": {
        "colab": {
          "base_uri": "https://localhost:8080/"
        },
        "id": "FYm9tfbJjTh-",
        "outputId": "40ff2477-a776-4c4a-dfff-60d4d9228d4f"
      },
      "execution_count": 7,
      "outputs": [
        {
          "output_type": "execute_result",
          "data": {
            "text/plain": [
              "Index(['fiModelDescriptor_freq', 'ProductGroup_SSL', 'ProductSize_Large',\n",
              "       'Enclosure_EROPS w AC', 'UnemploymentRate',\n",
              "       'ProductSize_Large / Medium', 'SalePrice', 'fiSecondaryDesc_freq',\n",
              "       'Estimated_Hours_log', 'Ripper_Yes', 'ProductSize_Medium',\n",
              "       'Drive_System_Four Wheel Drive'],\n",
              "      dtype='object')"
            ]
          },
          "metadata": {},
          "execution_count": 7
        }
      ]
    },
    {
      "cell_type": "code",
      "source": [
        "train_df.shape"
      ],
      "metadata": {
        "colab": {
          "base_uri": "https://localhost:8080/"
        },
        "id": "x8eBftKBjaDi",
        "outputId": "fd9dd606-b812-433a-a8a9-3c99b61dca1a"
      },
      "execution_count": 8,
      "outputs": [
        {
          "output_type": "execute_result",
          "data": {
            "text/plain": [
              "(421246, 12)"
            ]
          },
          "metadata": {},
          "execution_count": 8
        }
      ]
    },
    {
      "cell_type": "code",
      "source": [
        "valid_df.columns"
      ],
      "metadata": {
        "colab": {
          "base_uri": "https://localhost:8080/"
        },
        "id": "VUdk4Kq-jVN2",
        "outputId": "42a50e43-dfec-4182-89eb-6eadf356ebff"
      },
      "execution_count": 9,
      "outputs": [
        {
          "output_type": "execute_result",
          "data": {
            "text/plain": [
              "Index(['SalesID', 'fiModelDescriptor_freq', 'ProductSize_Large / Medium',\n",
              "       'ProductGroup_SSL', 'Ripper_Yes', 'ProductSize_Medium',\n",
              "       'ProductSize_Large', 'Enclosure_EROPS w AC', 'UnemploymentRate',\n",
              "       'fiSecondaryDesc_freq', 'Estimated_Hours_log', 'SalePrice'],\n",
              "      dtype='object')"
            ]
          },
          "metadata": {},
          "execution_count": 9
        }
      ]
    },
    {
      "cell_type": "code",
      "source": [
        "valid_df.shape"
      ],
      "metadata": {
        "colab": {
          "base_uri": "https://localhost:8080/"
        },
        "id": "ZTYCPMC4jWUp",
        "outputId": "81125383-8282-44fb-dbff-bd1195e495ef"
      },
      "execution_count": 10,
      "outputs": [
        {
          "output_type": "execute_result",
          "data": {
            "text/plain": [
              "(11573, 12)"
            ]
          },
          "metadata": {},
          "execution_count": 10
        }
      ]
    },
    {
      "cell_type": "code",
      "source": [
        "from google.colab import drive\n",
        "drive.mount('/content/drive')"
      ],
      "metadata": {
        "colab": {
          "base_uri": "https://localhost:8080/"
        },
        "id": "Z2Xj20pCs_mF",
        "outputId": "7b5a5745-c975-4524-8ae1-fe6e4bd65396"
      },
      "execution_count": 11,
      "outputs": [
        {
          "output_type": "stream",
          "name": "stdout",
          "text": [
            "Mounted at /content/drive\n"
          ]
        }
      ]
    },
    {
      "cell_type": "code",
      "source": [
        "import os\n",
        "checkpoint_dir = '/content/drive/MyDrive/demand_prediction_checkpoints/'\n",
        "os.makedirs(checkpoint_dir, exist_ok=True)"
      ],
      "metadata": {
        "id": "6FG8eZletEFs"
      },
      "execution_count": 12,
      "outputs": []
    },
    {
      "cell_type": "code",
      "source": [
        "import pandas as pd\n",
        "import numpy as np\n",
        "import pickle\n",
        "import json\n",
        "from datetime import datetime\n",
        "import gc\n",
        "import warnings\n",
        "warnings.filterwarnings('ignore')\n",
        "from sklearn.model_selection import train_test_split, GridSearchCV\n",
        "from sklearn.preprocessing import StandardScaler\n",
        "from sklearn.metrics import mean_squared_error, mean_absolute_error, r2_score\n",
        "import torch\n",
        "print(f\"PyTorch GPU Available: {torch.cuda.is_available()}\")\n",
        "if torch.cuda.is_available():\n",
        "    print(f\"GPU Name: {torch.cuda.get_device_name(0)}\")\n",
        "    print(f\"GPU Memory: {torch.cuda.get_device_properties(0).total_memory / 1024**3:.2f} GB\")"
      ],
      "metadata": {
        "colab": {
          "base_uri": "https://localhost:8080/"
        },
        "id": "R39_ggQFtOsv",
        "outputId": "9566c32b-57de-4b55-f0e3-de2c94f12dad"
      },
      "execution_count": 13,
      "outputs": [
        {
          "output_type": "stream",
          "name": "stdout",
          "text": [
            "PyTorch GPU Available: True\n",
            "GPU Name: NVIDIA L4\n",
            "GPU Memory: 22.16 GB\n"
          ]
        }
      ]
    },
    {
      "cell_type": "code",
      "source": [
        "def calculate_metrics(y_true, y_pred, model_name):\n",
        "    rmse = np.sqrt(mean_squared_error(y_true, y_pred))\n",
        "    mae = mean_absolute_error(y_true, y_pred)\n",
        "    r2 = r2_score(y_true, y_pred)\n",
        "\n",
        "    mask = y_true != 0\n",
        "    mape = np.mean(np.abs((y_true[mask] - y_pred[mask]) / y_true[mask])) * 100\n",
        "\n",
        "    return {\n",
        "        'model': model_name,\n",
        "        'rmse': rmse,\n",
        "        'mae': mae,\n",
        "        'r2': r2,\n",
        "        'mape': mape\n",
        "    }\n",
        "\n",
        "def save_checkpoint(data, filename):\n",
        "    filepath = os.path.join(checkpoint_dir, filename)\n",
        "    with open(filepath, 'wb') as f:\n",
        "        pickle.dump(data, f)\n",
        "    print(f\"Checkpoint saved: {filename}\")\n",
        "\n",
        "def load_checkpoint(filename):\n",
        "    filepath = os.path.join(checkpoint_dir, filename)\n",
        "    if os.path.exists(filepath):\n",
        "        with open(filepath, 'rb') as f:\n",
        "            print(f\"Checkpoint loaded: {filename}\")\n",
        "            return pickle.load(f)\n",
        "    return None\n",
        "\n",
        "def print_metrics(metrics):\n",
        "    print(f\"{'='*50}\")\n",
        "    print(f\"Model: {metrics['model']}\")\n",
        "    print(f\"{'='*50}\")\n",
        "    print(f\"RMSE: ${metrics['rmse']:,.2f}\")\n",
        "    print(f\"MAE:  ${metrics['mae']:,.2f}\")\n",
        "    print(f\"R²:   {metrics['r2']:.4f}\")\n",
        "    print(f\"MAPE: {metrics['mape']:.2f}%\")\n",
        "    print(f\"{'='*50}\")"
      ],
      "metadata": {
        "id": "Tmwfy2AutYDG"
      },
      "execution_count": 14,
      "outputs": []
    },
    {
      "cell_type": "code",
      "metadata": {
        "id": "fCXGAyOIslja",
        "colab": {
          "base_uri": "https://localhost:8080/"
        },
        "outputId": "12fae1c2-907b-4fe1-8ce4-611fadaa847f"
      },
      "outputs": [
        {
          "output_type": "stream",
          "name": "stdout",
          "text": [
            "Loading training data from CSV...\n",
            "Training data shape: (421246, 11)\n",
            "Memory usage: 10.45 MB\n",
            "Columns: ['fiModelDescriptor_freq', 'ProductGroup_SSL', 'ProductSize_Large', 'Enclosure_EROPS w AC', 'UnemploymentRate', 'ProductSize_Large / Medium', 'SalePrice', 'fiSecondaryDesc_freq', 'Estimated_Hours_log', 'Ripper_Yes', 'ProductSize_Medium']\n"
          ]
        }
      ],
      "source": [
        "processed_data = load_checkpoint('processed_data.pkl')\n",
        "\n",
        "if processed_data is None:\n",
        "    print(\"Loading training data from CSV...\")\n",
        "    dtypes = {\n",
        "        'fiModelDescriptor_freq': 'float32',\n",
        "        'fiSecondaryDesc_freq': 'float32',\n",
        "        'UnemploymentRate': 'float32',\n",
        "        'Estimated_Hours_log': 'float32',\n",
        "        'SalePrice': 'float32'\n",
        "    }\n",
        "    train_df = pd.read_csv('/content/train_df_MR_lite.csv', dtype=dtypes)\n",
        "\n",
        "    print(f\"Training data shape: {train_df.shape}\")\n",
        "    print(f\"Memory usage: {train_df.memory_usage().sum() / 1024**2:.2f} MB\")\n",
        "    print(f\"Columns: {list(train_df.columns)}\")\n",
        "else:\n",
        "    print(\"Loading preprocessed data from checkpoint...\")\n",
        "    train_df = processed_data"
      ],
      "execution_count": 15
    },
    {
      "cell_type": "code",
      "source": [
        "# --run next--\n",
        "if processed_data is None:\n",
        "    print(train_df.isnull().sum())\n",
        "    print(f\"Total missing values: {train_df.isnull().sum().sum()}\")\n",
        "\n",
        "    if train_df.isnull().sum().sum() > 0:\n",
        "        numeric_cols = train_df.select_dtypes(include=[np.number]).columns\n",
        "        for col in numeric_cols:\n",
        "            if train_df[col].isnull().sum() > 0:\n",
        "                median_value = train_df[col].median()\n",
        "                train_df[col].fillna(median_value, inplace=True)\n",
        "                print(f\"  Filled {col} with median: {median_value}\")\n",
        "\n",
        "        print(f\"Missing values after handling: {train_df.isnull().sum().sum()}\")\n",
        "        save_checkpoint(train_df, 'processed_data_imputed.pkl')\n",
        "else:\n",
        "    print(\"Data was loaded.\")\n",
        "\n",
        "split_data = load_checkpoint('train_test_split.pkl')\n",
        "\n",
        "if split_data is None:\n",
        "    print(\"Creating train-test split...\")\n",
        "\n",
        "    X = train_df.drop('SalePrice', axis=1)\n",
        "    y = train_df['SalePrice']\n",
        "\n",
        "    print(f\"Features shape: {X.shape}\")\n",
        "    print(f\"Target shape: {y.shape}\")\n",
        "    print(f\"Target range: ${y.min():,.0f} - ${y.max():,.0f}\")\n",
        "\n",
        "    X_train, X_test, y_train, y_test = train_test_split(\n",
        "        X, y, test_size=0.2, random_state=42\n",
        "    )\n",
        "\n",
        "    print(f\"Train set: {X_train.shape}\")\n",
        "    print(f\"Test set: {X_test.shape}\")\n",
        "\n",
        "    save_checkpoint({\n",
        "        'X_train': X_train, 'X_test': X_test,\n",
        "        'y_train': y_train, 'y_test': y_test,\n",
        "        'feature_names': list(X.columns)\n",
        "    }, 'train_test_split.pkl')\n",
        "\n",
        "    # Free memory\n",
        "    del train_df\n",
        "    gc.collect()\n",
        "else:\n",
        "    X_train = split_data['X_train']\n",
        "    X_test = split_data['X_test']\n",
        "    y_train = split_data['y_train']\n",
        "    y_test = split_data['y_test']\n",
        "    print(f\"Train set: {X_train.shape}\")\n",
        "    print(f\"Test set: {X_test.shape}\")"
      ],
      "metadata": {
        "colab": {
          "base_uri": "https://localhost:8080/"
        },
        "id": "al2tIm0Kwry_",
        "outputId": "9a1f5444-2722-4abe-d533-dc32fca7ca87"
      },
      "execution_count": 16,
      "outputs": [
        {
          "output_type": "stream",
          "name": "stdout",
          "text": [
            "fiModelDescriptor_freq        1\n",
            "ProductGroup_SSL              0\n",
            "ProductSize_Large             0\n",
            "Enclosure_EROPS w AC          0\n",
            "UnemploymentRate              1\n",
            "ProductSize_Large / Medium    0\n",
            "SalePrice                     0\n",
            "fiSecondaryDesc_freq          1\n",
            "Estimated_Hours_log           4\n",
            "Ripper_Yes                    0\n",
            "ProductSize_Medium            0\n",
            "dtype: int64\n",
            "Total missing values: 7\n",
            "  Filled fiModelDescriptor_freq with median: 329206.0\n",
            "  Filled UnemploymentRate with median: 5.599999904632568\n",
            "  Filled fiSecondaryDesc_freq with median: 39251.0\n",
            "  Filled Estimated_Hours_log with median: 0.0\n",
            "Missing values after handling: 0\n",
            "Checkpoint saved: processed_data_imputed.pkl\n",
            "Creating train-test split...\n",
            "Features shape: (421246, 10)\n",
            "Target shape: (421246,)\n",
            "Target range: $4,750 - $142,000\n",
            "Train set: (336996, 10)\n",
            "Test set: (84250, 10)\n",
            "Checkpoint saved: train_test_split.pkl\n"
          ]
        }
      ]
    },
    {
      "cell_type": "code",
      "source": [
        "# --run next and continue-- Checking for existing scaler (better safe than sorry)\n",
        "scaler_data = load_checkpoint('scaler_data.pkl')\n",
        "\n",
        "split_data = load_checkpoint('train_test_split.pkl')\n",
        "X_train = split_data['X_train']\n",
        "X_test = split_data['X_test']\n",
        "y_train = split_data['y_train']\n",
        "\n",
        "if scaler_data is None:\n",
        "    print(\"Scaling features...\")\n",
        "\n",
        "    scaler = StandardScaler()\n",
        "    X_train_scaled = scaler.fit_transform(X_train)\n",
        "    X_test_scaled = scaler.transform(X_test)\n",
        "\n",
        "    print(f\"Scaled train shape: {X_train_scaled.shape}\")\n",
        "    print(f\"Scaled test shape: {X_test_scaled.shape}\")\n",
        "\n",
        "    save_checkpoint({\n",
        "        'scaler': scaler,\n",
        "        'X_train_scaled': X_train_scaled,\n",
        "        'X_test_scaled': X_test_scaled\n",
        "    }, 'scaler_data.pkl')\n",
        "else:\n",
        "    scaler = scaler_data['scaler']\n",
        "    X_train_scaled = scaler_data['X_train_scaled']\n",
        "    X_test_scaled = scaler_data['X_test_scaled']\n",
        "\n",
        "print(f\"NaN in X_train_scaled: {np.isnan(X_train_scaled).sum()}\")\n",
        "print(f\"NaN in X_test_scaled: {np.isnan(X_test_scaled).sum()}\")"
      ],
      "metadata": {
        "colab": {
          "base_uri": "https://localhost:8080/"
        },
        "id": "h6LAQYfFxH36",
        "outputId": "6ddd16d9-2d13-48ae-8cf1-7826309b2301"
      },
      "execution_count": 17,
      "outputs": [
        {
          "output_type": "stream",
          "name": "stdout",
          "text": [
            "Checkpoint loaded: train_test_split.pkl\n",
            "Scaling features...\n",
            "Scaled train shape: (336996, 10)\n",
            "Scaled test shape: (84250, 10)\n",
            "Checkpoint saved: scaler_data.pkl\n",
            "NaN in X_train_scaled: 0\n",
            "NaN in X_test_scaled: 0\n"
          ]
        }
      ]
    },
    {
      "cell_type": "code",
      "execution_count": 18,
      "metadata": {
        "id": "iv8G9tiusljb",
        "colab": {
          "base_uri": "https://localhost:8080/"
        },
        "outputId": "c0dc49cb-9242-4d66-a6c0-0215afdaa8b9"
      },
      "outputs": [
        {
          "output_type": "stream",
          "name": "stdout",
          "text": [
            "Created new results tracking DataFrame\n"
          ]
        }
      ],
      "source": [
        "results_df = load_checkpoint('model_results.pkl')\n",
        "\n",
        "if results_df is None:\n",
        "    results_df = pd.DataFrame(columns=['model', 'rmse', 'mae', 'r2', 'mape', 'timestamp'])\n",
        "    print(\"Created new results tracking DataFrame\")\n",
        "else:\n",
        "    print(f\"Loaded existing results with {len(results_df)} models\")\n",
        "    print(\"Existing models:\")\n",
        "    for idx, row in results_df.iterrows():\n",
        "        print(f\"  - {row['model']}: RMSE=${row['rmse']:,.2f}, R²={row['r2']:.4f}\")"
      ]
    },
    {
      "cell_type": "code",
      "source": [
        "results_df = load_checkpoint('model_results.pkl')\n",
        "\n",
        "if results_df is None:\n",
        "    results_df = pd.DataFrame(columns=['model', 'rmse', 'mae', 'r2', 'mape', 'timestamp'])\n",
        "else:\n",
        "    print(f\"Loaded existing results with {len(results_df)} models\")\n",
        "    print(\"Existing models:\")\n",
        "    for idx, row in results_df.iterrows():\n",
        "        print(f\"  - {row['model']}: RMSE=${row['rmse']:,.2f}, R²={row['r2']:.4f}\")"
      ],
      "metadata": {
        "id": "EIITPZpTtIUR"
      },
      "execution_count": 19,
      "outputs": []
    },
    {
      "cell_type": "markdown",
      "source": [
        "# Baseline Models"
      ],
      "metadata": {
        "id": "CNVLdAxkzDOr"
      }
    },
    {
      "cell_type": "markdown",
      "source": [
        "## Linear Regression"
      ],
      "metadata": {
        "id": "5t7y_1lKtXFR"
      }
    },
    {
      "cell_type": "code",
      "execution_count": null,
      "metadata": {
        "id": "sl2TEOoEtDsl",
        "colab": {
          "base_uri": "https://localhost:8080/"
        },
        "outputId": "b51dceaf-a43b-4c0c-9d8b-993011bcc43e"
      },
      "outputs": [
        {
          "output_type": "stream",
          "name": "stdout",
          "text": [
            "Training Linear Regression...\n",
            "Checkpoint saved: linear_regression.pkl\n"
          ]
        }
      ],
      "source": [
        "lr_checkpoint = load_checkpoint('linear_regression.pkl')\n",
        "\n",
        "if lr_checkpoint is None:\n",
        "    print(\"Training Linear Regression...\")\n",
        "    from sklearn.linear_model import LinearRegression\n",
        "\n",
        "    lr_model = LinearRegression()\n",
        "    lr_model.fit(X_train_scaled, y_train)\n",
        "\n",
        "    save_checkpoint({'model': lr_model}, 'linear_regression.pkl')\n",
        "else:\n",
        "    lr_model = lr_checkpoint['model']\n",
        "    print(\"Loaded Linear Regression from checkpoint\")"
      ]
    },
    {
      "cell_type": "code",
      "execution_count": null,
      "metadata": {
        "id": "EAednhoutDsl",
        "colab": {
          "base_uri": "https://localhost:8080/"
        },
        "outputId": "7f1f66c4-7eb6-4de8-cdc3-a297dbe2d1a1"
      },
      "outputs": [
        {
          "output_type": "stream",
          "name": "stdout",
          "text": [
            "Predictions shape: (84250,)\n",
            "Prediction range: $762 - $92,143\n"
          ]
        }
      ],
      "source": [
        "lr_pred = lr_model.predict(X_test_scaled)\n",
        "print(f\"Predictions shape: {lr_pred.shape}\")\n",
        "print(f\"Prediction range: ${lr_pred.min():,.0f} - ${lr_pred.max():,.0f}\")"
      ]
    },
    {
      "cell_type": "code",
      "source": [
        "# Check for NaN values in scaled data\n",
        "print(\"Checking for NaN values in scaled data...\")\n",
        "print(f\"NaN in X_train_scaled: {np.isnan(X_train_scaled).sum()}\")\n",
        "print(f\"NaN in X_test_scaled: {np.isnan(X_test_scaled).sum()}\")\n",
        "\n",
        "# If there are NaN values, we need to re-scale the data\n",
        "if np.isnan(X_train_scaled).sum() > 0 or np.isnan(X_test_scaled).sum() > 0:\n",
        "    print(\"\\nRe-scaling data after handling missing values...\")\n",
        "\n",
        "    # Delete the old scaler checkpoint\n",
        "    import os\n",
        "    scaler_path = os.path.join(checkpoint_dir, 'scaler_data.pkl')\n",
        "    if os.path.exists(scaler_path):\n",
        "        os.remove(scaler_path)\n",
        "        print(\"Removed old scaler checkpoint\")\n",
        "\n",
        "    # Reload the cleaned data\n",
        "    split_data = load_checkpoint('train_test_split.pkl')\n",
        "    X_train = split_data['X_train']\n",
        "    X_test = split_data['X_test']\n",
        "\n",
        "    # Check for any remaining NaN values\n",
        "    print(f\"\\nNaN in X_train before scaling: {X_train.isnull().sum().sum()}\")\n",
        "    print(f\"NaN in X_test before scaling: {X_test.isnull().sum().sum()}\")\n",
        "\n",
        "    # Create new scaler and scale the data\n",
        "    scaler = StandardScaler()\n",
        "    X_train_scaled = scaler.fit_transform(X_train)\n",
        "    X_test_scaled = scaler.transform(X_test)\n",
        "\n",
        "    # Verify no NaN values after scaling\n",
        "    print(f\"\\nAfter re-scaling:\")\n",
        "    print(f\"NaN in X_train_scaled: {np.isnan(X_train_scaled).sum()}\")\n",
        "    print(f\"NaN in X_test_scaled: {np.isnan(X_test_scaled).sum()}\")\n",
        "\n",
        "    # Save the new scaler and scaled data\n",
        "    save_checkpoint({\n",
        "        'scaler': scaler,\n",
        "        'X_train_scaled': X_train_scaled,\n",
        "        'X_test_scaled': X_test_scaled\n",
        "    }, 'scaler_data.pkl')\n",
        "\n",
        "    print(\"\\nScaling completed successfully!\")"
      ],
      "metadata": {
        "colab": {
          "base_uri": "https://localhost:8080/"
        },
        "id": "GNP98emRvtjW",
        "outputId": "7d4d60d7-1082-49b9-e6e5-347f7dca7d66"
      },
      "outputs": [
        {
          "output_type": "stream",
          "name": "stdout",
          "text": [
            "Checking for NaN values in scaled data...\n",
            "NaN in X_train_scaled: 0\n",
            "NaN in X_test_scaled: 0\n"
          ]
        }
      ],
      "execution_count": null
    },
    {
      "cell_type": "code",
      "execution_count": null,
      "metadata": {
        "id": "MP_i-NcUtDsl",
        "colab": {
          "base_uri": "https://localhost:8080/"
        },
        "outputId": "4f912888-c87f-466d-ac21-3ca1ce77f6d8"
      },
      "outputs": [
        {
          "output_type": "stream",
          "name": "stdout",
          "text": [
            "==================================================\n",
            "Model: Linear Regression\n",
            "==================================================\n",
            "RMSE: $16,470.23\n",
            "MAE:  $11,863.15\n",
            "R²:   0.4423\n",
            "MAPE: 49.75%\n",
            "==================================================\n",
            "Checkpoint saved: model_results.pkl\n"
          ]
        },
        {
          "output_type": "execute_result",
          "data": {
            "text/plain": [
              "27"
            ]
          },
          "metadata": {},
          "execution_count": 22
        }
      ],
      "source": [
        "lr_metrics = calculate_metrics(y_test, lr_pred, 'Linear Regression')\n",
        "print_metrics(lr_metrics)\n",
        "\n",
        "results_df = pd.concat([results_df, pd.DataFrame([{**lr_metrics, 'timestamp': datetime.now()}])], ignore_index=True)\n",
        "save_checkpoint(results_df, 'model_results.pkl')\n",
        "\n",
        "del lr_model, lr_pred\n",
        "gc.collect()"
      ]
    },
    {
      "cell_type": "code",
      "source": [
        "from sklearn.tree import DecisionTreeRegressor\n",
        "from sklearn.model_selection import RandomizedSearchCV\n",
        "\n",
        "param_dist = {\n",
        "    'max_depth': [5, 10, 15, 20, 25],\n",
        "    'min_samples_split': [2, 5, 10, 15],\n",
        "    'min_samples_leaf': [1, 3, 5, 10],\n",
        "    'max_features': ['sqrt', 'log2', None],\n",
        "    'criterion': ['squared_error', 'friedman_mse']\n",
        "}\n",
        "\n",
        "dt = DecisionTreeRegressor(random_state=42)\n",
        "search_dt = RandomizedSearchCV(\n",
        "    estimator=dt,\n",
        "    param_distributions=param_dist,\n",
        "    n_iter=50,\n",
        "    cv=5,\n",
        "    scoring='neg_root_mean_squared_error',\n",
        "    verbose=2,\n",
        "    random_state=42,\n",
        "    n_jobs=-1\n",
        ")\n",
        "\n",
        "search_dt.fit(X_train, y_train)\n",
        "best_dt = search_dt.best_estimator_\n",
        "from sklearn.metrics import mean_squared_error, mean_absolute_error, r2_score\n",
        "\n",
        "y_pred = best_dt.predict(X_valid)\n",
        "rmse = mean_squared_error(y_valid, y_pred, squared=False)\n",
        "mae = mean_absolute_error(y_valid, y_pred)\n",
        "r2 = r2_score(y_valid, y_pred)\n",
        "mape = (abs((y_valid - y_pred) / y_valid).mean()) * 100\n",
        "\n",
        "print(f\" Tuned Decision Tree Results:\")\n",
        "print(f\"RMSE: ${rmse:,.2f}\")\n",
        "print(f\"MAE:  ${mae:,.2f}\")\n",
        "print(f\"R²:   {r2:.4f}\")\n",
        "print(f\"MAPE: {mape:.2f}%\")"
      ],
      "metadata": {
        "colab": {
          "base_uri": "https://localhost:8080/",
          "height": 228
        },
        "id": "B-rvCnJ_GQ3k",
        "outputId": "07c52db3-b784-4b61-b47a-7b25c52e8c8d"
      },
      "execution_count": null,
      "outputs": [
        {
          "output_type": "stream",
          "name": "stdout",
          "text": [
            "Fitting 5 folds for each of 50 candidates, totalling 250 fits\n"
          ]
        },
        {
          "output_type": "error",
          "ename": "NameError",
          "evalue": "name 'X_valid' is not defined",
          "traceback": [
            "\u001b[0;31m---------------------------------------------------------------------------\u001b[0m",
            "\u001b[0;31mNameError\u001b[0m                                 Traceback (most recent call last)",
            "\u001b[0;32m/tmp/ipython-input-23-1310649920.py\u001b[0m in \u001b[0;36m<cell line: 0>\u001b[0;34m()\u001b[0m\n\u001b[1;32m     26\u001b[0m \u001b[0;32mfrom\u001b[0m \u001b[0msklearn\u001b[0m\u001b[0;34m.\u001b[0m\u001b[0mmetrics\u001b[0m \u001b[0;32mimport\u001b[0m \u001b[0mmean_squared_error\u001b[0m\u001b[0;34m,\u001b[0m \u001b[0mmean_absolute_error\u001b[0m\u001b[0;34m,\u001b[0m \u001b[0mr2_score\u001b[0m\u001b[0;34m\u001b[0m\u001b[0;34m\u001b[0m\u001b[0m\n\u001b[1;32m     27\u001b[0m \u001b[0;34m\u001b[0m\u001b[0m\n\u001b[0;32m---> 28\u001b[0;31m \u001b[0my_pred\u001b[0m \u001b[0;34m=\u001b[0m \u001b[0mbest_dt\u001b[0m\u001b[0;34m.\u001b[0m\u001b[0mpredict\u001b[0m\u001b[0;34m(\u001b[0m\u001b[0mX_valid\u001b[0m\u001b[0;34m)\u001b[0m\u001b[0;34m\u001b[0m\u001b[0;34m\u001b[0m\u001b[0m\n\u001b[0m\u001b[1;32m     29\u001b[0m \u001b[0mrmse\u001b[0m \u001b[0;34m=\u001b[0m \u001b[0mmean_squared_error\u001b[0m\u001b[0;34m(\u001b[0m\u001b[0my_valid\u001b[0m\u001b[0;34m,\u001b[0m \u001b[0my_pred\u001b[0m\u001b[0;34m,\u001b[0m \u001b[0msquared\u001b[0m\u001b[0;34m=\u001b[0m\u001b[0;32mFalse\u001b[0m\u001b[0;34m)\u001b[0m\u001b[0;34m\u001b[0m\u001b[0;34m\u001b[0m\u001b[0m\n\u001b[1;32m     30\u001b[0m \u001b[0mmae\u001b[0m \u001b[0;34m=\u001b[0m \u001b[0mmean_absolute_error\u001b[0m\u001b[0;34m(\u001b[0m\u001b[0my_valid\u001b[0m\u001b[0;34m,\u001b[0m \u001b[0my_pred\u001b[0m\u001b[0;34m)\u001b[0m\u001b[0;34m\u001b[0m\u001b[0;34m\u001b[0m\u001b[0m\n",
            "\u001b[0;31mNameError\u001b[0m: name 'X_valid' is not defined"
          ]
        }
      ]
    },
    {
      "cell_type": "markdown",
      "source": [
        "## Decision Tree"
      ],
      "metadata": {
        "id": "UhmrMXoFyDY6"
      }
    },
    {
      "cell_type": "code",
      "execution_count": null,
      "metadata": {
        "id": "YqUIv7DNtDsl",
        "colab": {
          "base_uri": "https://localhost:8080/"
        },
        "outputId": "3f476292-443b-481e-fca7-0691bce2575b"
      },
      "outputs": [
        {
          "output_type": "stream",
          "name": "stdout",
          "text": [
            "Checkpoint loaded: decision_tree.pkl\n",
            "Loaded Decision Tree from checkpoint\n",
            "Best parameters: {'max_depth': 20, 'min_samples_leaf': 10, 'min_samples_split': 10}\n"
          ]
        }
      ],
      "source": [
        "dt_checkpoint = load_checkpoint('decision_tree.pkl')\n",
        "\n",
        "if dt_checkpoint is None:\n",
        "    print(\"Training Decision Tree with hyperparameter tuning...\")\n",
        "    from sklearn.tree import DecisionTreeRegressor\n",
        "\n",
        "    param_grid = {\n",
        "        'max_depth': [10, 20, 30],\n",
        "        'min_samples_split': [10, 20, 50],\n",
        "        'min_samples_leaf': [5, 10, 20]\n",
        "    }\n",
        "\n",
        "    dt_model = DecisionTreeRegressor(random_state=42)\n",
        "    dt_grid = GridSearchCV(dt_model, param_grid, cv=3, scoring='neg_mean_squared_error', n_jobs=-1)\n",
        "\n",
        "    print(\"Running grid search...\")\n",
        "    dt_grid.fit(X_train, y_train)\n",
        "\n",
        "    print(f\"Best parameters: {dt_grid.best_params_}\")\n",
        "\n",
        "    save_checkpoint({\n",
        "        'model': dt_grid.best_estimator_,\n",
        "        'best_params': dt_grid.best_params_,\n",
        "        'cv_results': dt_grid.cv_results_\n",
        "    }, 'decision_tree.pkl')\n",
        "\n",
        "    dt_model = dt_grid.best_estimator_\n",
        "else:\n",
        "    dt_model = dt_checkpoint['model']\n",
        "    print(f\"Loaded Decision Tree from checkpoint\")\n",
        "    print(f\"Best parameters: {dt_checkpoint['best_params']}\")"
      ]
    },
    {
      "cell_type": "code",
      "execution_count": null,
      "metadata": {
        "id": "ERJ_J4QEtDsl",
        "colab": {
          "base_uri": "https://localhost:8080/"
        },
        "outputId": "83460f9f-62fa-4157-e592-3f85af63b426"
      },
      "outputs": [
        {
          "output_type": "execute_result",
          "data": {
            "text/plain": [
              "(84250,)"
            ]
          },
          "metadata": {},
          "execution_count": 23
        }
      ],
      "source": [
        "dt_pred = dt_model.predict(X_test)\n",
        "dt_pred.shape"
      ]
    },
    {
      "cell_type": "code",
      "execution_count": null,
      "metadata": {
        "id": "3lM_a7crtDsm",
        "colab": {
          "base_uri": "https://localhost:8080/"
        },
        "outputId": "0de60439-118b-492f-bfe1-9d28443008f3"
      },
      "outputs": [
        {
          "output_type": "stream",
          "name": "stdout",
          "text": [
            "==================================================\n",
            "Model: Decision Tree\n",
            "==================================================\n",
            "RMSE: $12,545.07\n",
            "MAE:  $8,508.08\n",
            "R²:   0.6764\n",
            "MAPE: 33.88%\n",
            "==================================================\n",
            "Checkpoint saved: model_results.pkl\n"
          ]
        },
        {
          "output_type": "execute_result",
          "data": {
            "text/plain": [
              "0"
            ]
          },
          "metadata": {},
          "execution_count": 24
        }
      ],
      "source": [
        "dt_metrics = calculate_metrics(y_test, dt_pred, 'Decision Tree')\n",
        "print_metrics(dt_metrics)\n",
        "\n",
        "results_df = pd.concat([results_df, pd.DataFrame([{**dt_metrics, 'timestamp': datetime.now()}])], ignore_index=True)\n",
        "save_checkpoint(results_df, 'model_results.pkl')\n",
        "\n",
        "del dt_model, dt_pred\n",
        "gc.collect()"
      ]
    },
    {
      "cell_type": "code",
      "source": [
        "from sklearn.tree import DecisionTreeRegressor\n",
        "\n",
        "print(\"Tuning Decision Tree to reduce overfitting...\")\n",
        "\n",
        "# New parameter grid per instructions\n",
        "dt_param_grid = {\n",
        "    'max_depth': [6, 8, 10, 12],  # Reduced from [10, 20, 30]\n",
        "    'min_samples_split': [2, 5, 10],  # Reduced from [10, 20, 50]\n",
        "    'min_samples_leaf': [5, 7, 10],  # Adjusted from [5, 10, 20]\n",
        "    'max_features': ['auto', 'sqrt', 'log2']  # Added\n",
        "}\n",
        "\n",
        "dt_model = DecisionTreeRegressor(random_state=42)\n",
        "\n",
        "# Use GridSearchCV with cross-validation\n",
        "dt_grid = GridSearchCV(\n",
        "    dt_model,\n",
        "    dt_param_grid,\n",
        "    cv=5,  # 5-fold cross-validation\n",
        "    scoring='neg_mean_squared_error',\n",
        "    n_jobs=-1,\n",
        "    verbose=1\n",
        ")\n",
        "\n",
        "print(\"Running grid search with cross-validation...\")\n",
        "dt_grid.fit(X_train, y_train)\n",
        "\n",
        "print(f\"Best parameters: {dt_grid.best_params_}\")\n",
        "print(f\"Best CV score: {np.sqrt(-dt_grid.best_score_):,.2f}\")\n",
        "dt_pred = dt_grid.best_estimator_.predict(X_test)\n",
        "dt_metrics = calculate_metrics(y_test, dt_pred, 'Decision Tree (Tuned)')\n",
        "print_metrics(dt_metrics)\n",
        "\n",
        "results_df = pd.concat([results_df, pd.DataFrame([{\n",
        "    **dt_metrics,\n",
        "    'timestamp': datetime.now(),\n",
        "    'params': json.dumps(dt_grid.best_params_)\n",
        "}])], ignore_index=True)\n",
        "\n",
        "save_checkpoint(results_df, 'model_results_tuned.pkl')\n",
        "save_checkpoint({\n",
        "    'model': dt_grid.best_estimator_,\n",
        "    'best_params': dt_grid.best_params_,\n",
        "    'cv_results': dt_grid.cv_results_\n",
        "}, 'decision_tree_tuned.pkl')"
      ],
      "metadata": {
        "colab": {
          "base_uri": "https://localhost:8080/"
        },
        "id": "SPAG29cwOa3i",
        "outputId": "0be8b9cc-6c8b-4279-8d0f-f5c749fabd68"
      },
      "execution_count": 20,
      "outputs": [
        {
          "output_type": "stream",
          "name": "stdout",
          "text": [
            "Tuning Decision Tree to reduce overfitting...\n",
            "Running grid search with cross-validation...\n",
            "Fitting 5 folds for each of 108 candidates, totalling 540 fits\n",
            "Best parameters: {'max_depth': 12, 'max_features': 'sqrt', 'min_samples_leaf': 5, 'min_samples_split': 2}\n",
            "Best CV score: 14,492.54\n",
            "==================================================\n",
            "Model: Decision Tree (Tuned)\n",
            "==================================================\n",
            "RMSE: $14,721.90\n",
            "MAE:  $10,243.28\n",
            "R²:   0.5544\n",
            "MAPE: 41.63%\n",
            "==================================================\n",
            "Checkpoint saved: model_results_tuned.pkl\n",
            "Checkpoint saved: decision_tree_tuned.pkl\n"
          ]
        }
      ]
    },
    {
      "cell_type": "markdown",
      "source": [
        "The results indicate that the first decision tree run was clearly overfitting. With this tuned version, it isn't memorizing as much but at the cost of accuracy; however, it has less variance so i would consider this version more stable."
      ],
      "metadata": {
        "id": "kJoiXmP9RQIK"
      }
    },
    {
      "cell_type": "markdown",
      "source": [
        "## Random Forest"
      ],
      "metadata": {
        "id": "ST1zSV9YyhHd"
      }
    },
    {
      "cell_type": "code",
      "execution_count": null,
      "metadata": {
        "id": "vGyC8P4RtDsm",
        "colab": {
          "base_uri": "https://localhost:8080/"
        },
        "outputId": "7e9fa5dc-babd-4f91-affd-99edb5b6cafe"
      },
      "outputs": [
        {
          "output_type": "stream",
          "name": "stdout",
          "text": [
            "Checkpoint loaded: random_forest.pkl\n",
            "Loaded Random Forest from checkpoint\n"
          ]
        }
      ],
      "source": [
        "rf_checkpoint = load_checkpoint('random_forest.pkl')\n",
        "\n",
        "if rf_checkpoint is None:\n",
        "    print(\"Training Random Forest...\")\n",
        "    from sklearn.ensemble import RandomForestRegressor\n",
        "\n",
        "    rf_model = RandomForestRegressor(\n",
        "        n_estimators=100,\n",
        "        max_depth=20,\n",
        "        min_samples_split=10,\n",
        "        min_samples_leaf=5,\n",
        "        random_state=42,\n",
        "        n_jobs=-1\n",
        "    )\n",
        "\n",
        "    rf_model.fit(X_train, y_train)\n",
        "\n",
        "    save_checkpoint({'model': rf_model}, 'random_forest.pkl')\n",
        "else:\n",
        "    rf_model = rf_checkpoint['model']\n",
        "    print(\"Loaded Random Forest from checkpoint\")"
      ]
    },
    {
      "cell_type": "code",
      "execution_count": null,
      "metadata": {
        "id": "SJPxDriQtDsm",
        "colab": {
          "base_uri": "https://localhost:8080/"
        },
        "outputId": "eab9db0c-0cb6-4460-fba5-f847c7a257c0"
      },
      "outputs": [
        {
          "output_type": "execute_result",
          "data": {
            "text/plain": [
              "(84250,)"
            ]
          },
          "metadata": {},
          "execution_count": 26
        }
      ],
      "source": [
        "rf_pred = rf_model.predict(X_test)\n",
        "rf_pred.shape"
      ]
    },
    {
      "cell_type": "code",
      "execution_count": null,
      "metadata": {
        "id": "JtV4rXpCtDsm",
        "colab": {
          "base_uri": "https://localhost:8080/"
        },
        "outputId": "27c76b00-b268-412e-dbac-a818879dc30c"
      },
      "outputs": [
        {
          "output_type": "stream",
          "name": "stdout",
          "text": [
            "==================================================\n",
            "Model: Random Forest\n",
            "==================================================\n",
            "RMSE: $12,261.98\n",
            "MAE:  $8,322.52\n",
            "R²:   0.6909\n",
            "MAPE: 33.31%\n",
            "==================================================\n",
            "Top 5 Important Features:\n",
            "                  feature  importance\n",
            "3    Enclosure_EROPS w AC    0.275235\n",
            "6    fiSecondaryDesc_freq    0.238333\n",
            "4        UnemploymentRate    0.093456\n",
            "7     Estimated_Hours_log    0.083271\n",
            "0  fiModelDescriptor_freq    0.078357\n",
            "Checkpoint saved: model_results.pkl\n"
          ]
        },
        {
          "output_type": "execute_result",
          "data": {
            "text/plain": [
              "46"
            ]
          },
          "metadata": {},
          "execution_count": 27
        }
      ],
      "source": [
        "rf_metrics = calculate_metrics(y_test, rf_pred, 'Random Forest')\n",
        "print_metrics(rf_metrics)\n",
        "\n",
        "# Feature importance\n",
        "feature_importance = pd.DataFrame({\n",
        "    'feature': X_train.columns,\n",
        "    'importance': rf_model.feature_importances_\n",
        "}).sort_values('importance', ascending=False)\n",
        "\n",
        "print(\"Top 5 Important Features:\")\n",
        "print(feature_importance.head())\n",
        "\n",
        "results_df = pd.concat([results_df, pd.DataFrame([{**rf_metrics, 'timestamp': datetime.now()}])], ignore_index=True)\n",
        "save_checkpoint(results_df, 'model_results.pkl')\n",
        "\n",
        "del rf_model, rf_pred\n",
        "gc.collect()"
      ]
    },
    {
      "cell_type": "code",
      "source": [
        "from sklearn.ensemble import RandomForestRegressor\n",
        "from sklearn.model_selection import RandomizedSearchCV\n",
        "# Tuned\n",
        "\n",
        "# Expanded parameter distributions\n",
        "rf_param_dist = {\n",
        "    'n_estimators': [100, 200, 300, 400, 500],  # Expanded from just 100\n",
        "    'max_depth': [10, 15, 20, 25, 30, None],  # Adjusted from 200(?)\n",
        "    'min_samples_split': [2, 5, 10],\n",
        "    'min_samples_leaf': [1, 2, 3, 4, 5],  # Reduced from [5]\n",
        "    'max_features': ['auto', 'sqrt'],  # Added\n",
        "    'bootstrap': [True, False]  # Added\n",
        "}\n",
        "\n",
        "rf_model = RandomForestRegressor(random_state=42, n_jobs=-1)\n",
        "\n",
        "# Use RandomizedSearchCV for efficiency\n",
        "rf_random = RandomizedSearchCV(\n",
        "    rf_model,\n",
        "    rf_param_dist,\n",
        "    n_iter=50,  # Number of parameter settings sampled\n",
        "    cv=5,\n",
        "    scoring='neg_mean_squared_error',\n",
        "    n_jobs=-1,\n",
        "    verbose=1,\n",
        "    random_state=42\n",
        ")\n",
        "\n",
        "print(\"Running randomized search...\")\n",
        "rf_random.fit(X_train, y_train)\n",
        "\n",
        "print(f\"Best parameters: {rf_random.best_params_}\")\n",
        "print(f\"Best CV score: {np.sqrt(-rf_random.best_score_):,.2f}\")\n",
        "\n",
        "rf_pred = rf_random.best_estimator_.predict(X_test)\n",
        "\n",
        "rf_metrics = calculate_metrics(y_test, rf_pred, 'Random Forest (Tuned)')\n",
        "print_metrics(rf_metrics)\n",
        "\n",
        "feature_importance = pd.DataFrame({\n",
        "    'feature': X_train.columns,\n",
        "    'importance': rf_random.best_estimator_.feature_importances_\n",
        "}).sort_values('importance', ascending=False)\n",
        "\n",
        "results_df = pd.concat([results_df, pd.DataFrame([{\n",
        "    **rf_metrics,\n",
        "    'timestamp': datetime.now(),\n",
        "    'params': json.dumps(rf_random.best_params_)\n",
        "}])], ignore_index=True)\n",
        "\n",
        "save_checkpoint(results_df, 'model_results_tuned.pkl')\n",
        "save_checkpoint({\n",
        "    'model': rf_random.best_estimator_,\n",
        "    'best_params': rf_random.best_params_,\n",
        "    'cv_results': rf_random.cv_results_\n",
        "}, 'random_forest_tuned.pkl')"
      ],
      "metadata": {
        "colab": {
          "base_uri": "https://localhost:8080/"
        },
        "id": "7KdI12nlO3y1",
        "outputId": "d0b4a2fe-bdd1-441b-cd04-d78a7c9db3a9"
      },
      "execution_count": 21,
      "outputs": [
        {
          "output_type": "stream",
          "name": "stdout",
          "text": [
            "Running randomized search...\n",
            "Fitting 5 folds for each of 50 candidates, totalling 250 fits\n",
            "Best parameters: {'n_estimators': 200, 'min_samples_split': 2, 'min_samples_leaf': 2, 'max_features': 'sqrt', 'max_depth': 30, 'bootstrap': False}\n",
            "Best CV score: 12,290.66\n",
            "==================================================\n",
            "Model: Random Forest (Tuned)\n",
            "==================================================\n",
            "RMSE: $12,182.78\n",
            "MAE:  $8,201.54\n",
            "R²:   0.6948\n",
            "MAPE: 32.97%\n",
            "==================================================\n",
            "Checkpoint saved: model_results_tuned.pkl\n",
            "Checkpoint saved: random_forest_tuned.pkl\n"
          ]
        }
      ]
    },
    {
      "cell_type": "code",
      "source": [],
      "metadata": {
        "id": "XoP_QgfOTpWW"
      },
      "execution_count": null,
      "outputs": []
    },
    {
      "cell_type": "markdown",
      "source": [
        "# Advanced Models"
      ],
      "metadata": {
        "id": "tm8yAki4zM6p"
      }
    },
    {
      "cell_type": "markdown",
      "source": [
        "## XGBoost"
      ],
      "metadata": {
        "id": "foAhbWaVzRFP"
      }
    },
    {
      "source": [
        "# --do not run--\n",
        "# model updated\n",
        "xgb_checkpoint = load_checkpoint('xgboost.pkl')\n",
        "\n",
        "if xgb_checkpoint is None:\n",
        "    print(\"Training XGBoost with GPU...\")\n",
        "    import xgboost as xgb\n",
        "    import torch\n",
        "    gpu_available = torch.cuda.is_available()\n",
        "\n",
        "    xgb_params = {\n",
        "        'tree_method': 'gpu_hist' if gpu_available else 'hist',\n",
        "        'gpu_id': 0 if gpu_available else None,\n",
        "        'max_depth': 10,\n",
        "        'learning_rate': 0.1,\n",
        "        'n_estimators': 100,\n",
        "        'objective': 'reg:squarederror',\n",
        "        'random_state': 42,\n",
        "    }\n",
        "\n",
        "    xgb_params = {k: v for k, v in xgb_params.items() if v is not None}\n",
        "    print(f\"Using {'GPU' if gpu_available else 'CPU'} for training\")\n",
        "\n",
        "    xgb_model = xgb.XGBRegressor(**xgb_params)\n",
        "\n",
        "    xgb_model.fit(\n",
        "        X_train, y_train,\n",
        "        eval_set=[(X_test, y_test)],\n",
        "        verbose=True\n",
        "    )\n",
        "\n",
        "    best_iter = None\n",
        "    if hasattr(xgb_model, 'best_iteration'):\n",
        "        best_iter = xgb_model.best_iteration\n",
        "        print(f\"Best iteration: {best_iter}\")\n",
        "    else:\n",
        "        print(f\"Trained for {xgb_model.n_estimators} iterations (no early stopping callbacks specified)\")\n",
        "\n",
        "\n",
        "    save_checkpoint({\n",
        "        'model': xgb_model,\n",
        "        'params': xgb_params,\n",
        "        'best_iteration': best_iter # This might be None\n",
        "    }, 'xgboost.pkl')\n",
        "else:\n",
        "    import xgboost as xgb\n",
        "    xgb_model = xgb_checkpoint['model']\n",
        "    print(f\"Loaded XGBoost from checkpoint (best iteration: {xgb_checkpoint.get('best_iteration', 'N/A')})\")"
      ],
      "cell_type": "code",
      "metadata": {
        "colab": {
          "base_uri": "https://localhost:8080/"
        },
        "id": "N_BS7Dv-1BXN",
        "outputId": "41f84f9a-2f8e-466e-86cb-129db36610a3"
      },
      "execution_count": null,
      "outputs": [
        {
          "output_type": "stream",
          "name": "stdout",
          "text": [
            "Training XGBoost with GPU...\n",
            "Using GPU for training\n",
            "[0]\tvalidation_0-rmse:20701.01457\n",
            "[1]\tvalidation_0-rmse:19534.11546\n",
            "[2]\tvalidation_0-rmse:18540.69137\n",
            "[3]\tvalidation_0-rmse:17694.98160\n",
            "[4]\tvalidation_0-rmse:16971.34938\n",
            "[5]\tvalidation_0-rmse:16358.00403\n",
            "[6]\tvalidation_0-rmse:15824.02202\n",
            "[7]\tvalidation_0-rmse:15379.43633\n",
            "[8]\tvalidation_0-rmse:14993.61039\n",
            "[9]\tvalidation_0-rmse:14671.32443\n",
            "[10]\tvalidation_0-rmse:14396.05122\n",
            "[11]\tvalidation_0-rmse:14162.49557\n",
            "[12]\tvalidation_0-rmse:13960.50707\n",
            "[13]\tvalidation_0-rmse:13800.10765\n",
            "[14]\tvalidation_0-rmse:13652.53331\n",
            "[15]\tvalidation_0-rmse:13525.43155\n",
            "[16]\tvalidation_0-rmse:13408.51841\n",
            "[17]\tvalidation_0-rmse:13311.12589\n",
            "[18]\tvalidation_0-rmse:13234.91860\n",
            "[19]\tvalidation_0-rmse:13160.26888\n",
            "[20]\tvalidation_0-rmse:13090.10332\n",
            "[21]\tvalidation_0-rmse:13035.90565\n",
            "[22]\tvalidation_0-rmse:12983.47115\n",
            "[23]\tvalidation_0-rmse:12944.85862\n",
            "[24]\tvalidation_0-rmse:12900.16835\n",
            "[25]\tvalidation_0-rmse:12870.70169\n",
            "[26]\tvalidation_0-rmse:12843.95213\n",
            "[27]\tvalidation_0-rmse:12812.11542\n",
            "[28]\tvalidation_0-rmse:12779.32430\n",
            "[29]\tvalidation_0-rmse:12752.20308\n",
            "[30]\tvalidation_0-rmse:12729.03597\n",
            "[31]\tvalidation_0-rmse:12705.73217\n",
            "[32]\tvalidation_0-rmse:12685.78674\n",
            "[33]\tvalidation_0-rmse:12672.37466\n",
            "[34]\tvalidation_0-rmse:12649.17383\n",
            "[35]\tvalidation_0-rmse:12632.82657\n",
            "[36]\tvalidation_0-rmse:12620.22701\n",
            "[37]\tvalidation_0-rmse:12605.80921\n",
            "[38]\tvalidation_0-rmse:12591.68436\n",
            "[39]\tvalidation_0-rmse:12576.22581\n",
            "[40]\tvalidation_0-rmse:12560.60984\n",
            "[41]\tvalidation_0-rmse:12548.14445\n",
            "[42]\tvalidation_0-rmse:12538.44653\n",
            "[43]\tvalidation_0-rmse:12528.65941\n",
            "[44]\tvalidation_0-rmse:12519.96219\n",
            "[45]\tvalidation_0-rmse:12508.07674\n",
            "[46]\tvalidation_0-rmse:12496.67407\n",
            "[47]\tvalidation_0-rmse:12486.89647\n",
            "[48]\tvalidation_0-rmse:12475.34424\n",
            "[49]\tvalidation_0-rmse:12464.90951\n",
            "[50]\tvalidation_0-rmse:12456.18751\n",
            "[51]\tvalidation_0-rmse:12449.66852\n",
            "[52]\tvalidation_0-rmse:12438.92036\n",
            "[53]\tvalidation_0-rmse:12431.13176\n",
            "[54]\tvalidation_0-rmse:12425.51935\n",
            "[55]\tvalidation_0-rmse:12418.51240\n",
            "[56]\tvalidation_0-rmse:12410.72544\n",
            "[57]\tvalidation_0-rmse:12404.52598\n",
            "[58]\tvalidation_0-rmse:12399.54556\n",
            "[59]\tvalidation_0-rmse:12392.85418\n",
            "[60]\tvalidation_0-rmse:12389.25700\n",
            "[61]\tvalidation_0-rmse:12384.53069\n",
            "[62]\tvalidation_0-rmse:12379.42096\n",
            "[63]\tvalidation_0-rmse:12375.70519\n",
            "[64]\tvalidation_0-rmse:12371.55897\n",
            "[65]\tvalidation_0-rmse:12368.25026\n",
            "[66]\tvalidation_0-rmse:12364.60901\n",
            "[67]\tvalidation_0-rmse:12362.22996\n",
            "[68]\tvalidation_0-rmse:12357.43344\n",
            "[69]\tvalidation_0-rmse:12354.71237\n",
            "[70]\tvalidation_0-rmse:12351.14983\n",
            "[71]\tvalidation_0-rmse:12349.09724\n",
            "[72]\tvalidation_0-rmse:12345.19426\n",
            "[73]\tvalidation_0-rmse:12340.31602\n",
            "[74]\tvalidation_0-rmse:12336.21054\n",
            "[75]\tvalidation_0-rmse:12334.30489\n",
            "[76]\tvalidation_0-rmse:12331.15442\n",
            "[77]\tvalidation_0-rmse:12327.71590\n",
            "[78]\tvalidation_0-rmse:12324.71771\n",
            "[79]\tvalidation_0-rmse:12321.90675\n",
            "[80]\tvalidation_0-rmse:12320.09838\n",
            "[81]\tvalidation_0-rmse:12317.26592\n",
            "[82]\tvalidation_0-rmse:12315.75291\n",
            "[83]\tvalidation_0-rmse:12312.67788\n",
            "[84]\tvalidation_0-rmse:12309.36159\n",
            "[85]\tvalidation_0-rmse:12308.25087\n",
            "[86]\tvalidation_0-rmse:12305.29165\n",
            "[87]\tvalidation_0-rmse:12300.43311\n",
            "[88]\tvalidation_0-rmse:12298.69571\n",
            "[89]\tvalidation_0-rmse:12297.35148\n",
            "[90]\tvalidation_0-rmse:12296.73663\n",
            "[91]\tvalidation_0-rmse:12294.67091\n",
            "[92]\tvalidation_0-rmse:12291.93117\n",
            "[93]\tvalidation_0-rmse:12288.89134\n",
            "[94]\tvalidation_0-rmse:12288.04469\n",
            "[95]\tvalidation_0-rmse:12287.68275\n",
            "[96]\tvalidation_0-rmse:12285.07572\n",
            "[97]\tvalidation_0-rmse:12284.08579\n",
            "[98]\tvalidation_0-rmse:12282.02517\n",
            "[99]\tvalidation_0-rmse:12280.46270\n",
            "Trained for 100 iterations (no early stopping callbacks specified)\n",
            "Checkpoint saved: xgboost.pkl\n"
          ]
        }
      ]
    },
    {
      "cell_type": "code",
      "execution_count": null,
      "metadata": {
        "id": "EYKawj_8tDsm",
        "colab": {
          "base_uri": "https://localhost:8080/"
        },
        "outputId": "52ea4dd8-a56d-42c5-e39a-e75f80c6b74c"
      },
      "outputs": [
        {
          "output_type": "stream",
          "name": "stdout",
          "text": [
            "Predictions shape: (84250,)\n"
          ]
        }
      ],
      "source": [
        "xgb_pred = xgb_model.predict(X_test)\n",
        "print(f\"Predictions shape: {xgb_pred.shape}\")"
      ]
    },
    {
      "cell_type": "code",
      "execution_count": null,
      "metadata": {
        "id": "kic_fF4otDsm",
        "colab": {
          "base_uri": "https://localhost:8080/"
        },
        "outputId": "fdeb5bda-205f-4119-d033-d4b063b19d37"
      },
      "outputs": [
        {
          "output_type": "stream",
          "name": "stdout",
          "text": [
            "==================================================\n",
            "Model: XGBoost\n",
            "==================================================\n",
            "RMSE: $12,280.46\n",
            "MAE:  $8,413.97\n",
            "R²:   0.6899\n",
            "MAPE: 33.97%\n",
            "==================================================\n",
            "Checkpoint saved: model_results.pkl\n"
          ]
        },
        {
          "output_type": "execute_result",
          "data": {
            "text/plain": [
              "85"
            ]
          },
          "metadata": {},
          "execution_count": 31
        }
      ],
      "source": [
        "xgb_metrics = calculate_metrics(y_test, xgb_pred, 'XGBoost')\n",
        "print_metrics(xgb_metrics)\n",
        "\n",
        "results_df = pd.concat([results_df, pd.DataFrame([{**xgb_metrics, 'timestamp': datetime.now()}])], ignore_index=True)\n",
        "save_checkpoint(results_df, 'model_results.pkl')\n",
        "\n",
        "del xgb_model, xgb_pred\n",
        "gc.collect()"
      ]
    },
    {
      "cell_type": "code",
      "source": [
        "# full hypertune\n",
        "\n",
        "!pip install xgboost\n",
        "import xgboost as xgb\n",
        "\n",
        "gpu_available = torch.cuda.is_available()\n",
        "\n",
        "# Comprehensive parameter grid\n",
        "xgb_param_grid = {\n",
        "    'n_estimators': [100, 200, 300],\n",
        "    'max_depth': [6, 8, 10, 12],\n",
        "    'learning_rate': [0.01, 0.05, 0.1, 0.15],\n",
        "    'subsample': [0.7, 0.8, 0.9, 1.0],\n",
        "    'colsample_bytree': [0.7, 0.8, 0.9, 1.0],\n",
        "    'reg_alpha': [0, 0.1, 0.5, 1.0],  # L1 regularization\n",
        "    'reg_lambda': [0, 0.1, 0.5, 1.0],  # L2 regularization\n",
        "}\n",
        "\n",
        "base_params = {\n",
        "    'tree_method': 'gpu_hist' if gpu_available else 'hist',\n",
        "    'objective': 'reg:squarederror',\n",
        "    'random_state': 42,\n",
        "    'eval_metric': 'rmse'\n",
        "}\n",
        "\n",
        "if gpu_available:\n",
        "    base_params['gpu_id'] = 0\n",
        "\n",
        "xgb_model = xgb.XGBRegressor(**base_params)\n",
        "\n",
        "xgb_random = RandomizedSearchCV(\n",
        "    xgb_model,\n",
        "    xgb_param_grid,\n",
        "    n_iter=50,\n",
        "    cv=5,\n",
        "    scoring='neg_mean_squared_error',\n",
        "    n_jobs=-1,\n",
        "    verbose=1,\n",
        "    random_state=42\n",
        ")\n",
        "\n",
        "print(f\"Using {'GPU' if gpu_available else 'CPU'} for training\")\n",
        "print(\"Running randomized search...\")\n",
        "xgb_random.fit(\n",
        "    X_train, y_train,\n",
        "    eval_set=[(X_test, y_test)],\n",
        "    verbose=True\n",
        ")\n",
        "\n",
        "print(f\"Best parameters: {xgb_random.best_params_}\")\n",
        "print(f\"Best CV score: {np.sqrt(-xgb_random.best_score_):,.2f}\")\n",
        "\n",
        "xgb_pred = xgb_random.best_estimator_.predict(X_test)\n",
        "xgb_metrics = calculate_metrics(y_test, xgb_pred, 'XGBoost (Tuned)')\n",
        "print_metrics(xgb_metrics)\n",
        "\n",
        "results_df = pd.concat([results_df, pd.DataFrame([{\n",
        "    **xgb_metrics,\n",
        "    'timestamp': datetime.now(),\n",
        "    'params': json.dumps(xgb_random.best_params_)\n",
        "}])], ignore_index=True)\n",
        "\n",
        "save_checkpoint(results_df, 'model_results_tuned.pkl')\n",
        "save_checkpoint({\n",
        "    'model': xgb_random.best_estimator_,\n",
        "    'best_params': xgb_random.best_params_,\n",
        "    'cv_results': xgb_random.cv_results_\n",
        "}, 'xgboost_tuned.pkl')"
      ],
      "metadata": {
        "colab": {
          "base_uri": "https://localhost:8080/"
        },
        "id": "gcmeN_i_Pggq",
        "outputId": "8cabf6de-bd6b-4edc-cdce-24e9068fd974"
      },
      "execution_count": 24,
      "outputs": [
        {
          "output_type": "stream",
          "name": "stdout",
          "text": [
            "Requirement already satisfied: xgboost in /usr/local/lib/python3.11/dist-packages (2.1.4)\n",
            "Requirement already satisfied: numpy in /usr/local/lib/python3.11/dist-packages (from xgboost) (2.0.2)\n",
            "Requirement already satisfied: nvidia-nccl-cu12 in /usr/local/lib/python3.11/dist-packages (from xgboost) (2.21.5)\n",
            "Requirement already satisfied: scipy in /usr/local/lib/python3.11/dist-packages (from xgboost) (1.15.3)\n",
            "Using GPU for training\n",
            "Running randomized search...\n",
            "Fitting 5 folds for each of 50 candidates, totalling 250 fits\n",
            "[0]\tvalidation_0-rmse:21376.77607\n",
            "[1]\tvalidation_0-rmse:20742.53202\n",
            "[2]\tvalidation_0-rmse:20150.74006\n",
            "[3]\tvalidation_0-rmse:19593.21246\n",
            "[4]\tvalidation_0-rmse:19065.95864\n",
            "[5]\tvalidation_0-rmse:18687.00397\n",
            "[6]\tvalidation_0-rmse:18247.87316\n",
            "[7]\tvalidation_0-rmse:17947.88981\n",
            "[8]\tvalidation_0-rmse:17561.52769\n",
            "[9]\tvalidation_0-rmse:17174.71640\n",
            "[10]\tvalidation_0-rmse:16796.35848\n",
            "[11]\tvalidation_0-rmse:16572.42904\n",
            "[12]\tvalidation_0-rmse:16255.08523\n",
            "[13]\tvalidation_0-rmse:15951.94446\n",
            "[14]\tvalidation_0-rmse:15673.53325\n",
            "[15]\tvalidation_0-rmse:15426.64077\n",
            "[16]\tvalidation_0-rmse:15204.97066\n",
            "[17]\tvalidation_0-rmse:14978.83987\n",
            "[18]\tvalidation_0-rmse:14826.46177\n",
            "[19]\tvalidation_0-rmse:14693.85025\n",
            "[20]\tvalidation_0-rmse:14517.66570\n",
            "[21]\tvalidation_0-rmse:14359.27988\n",
            "[22]\tvalidation_0-rmse:14204.77756\n",
            "[23]\tvalidation_0-rmse:14060.50201\n",
            "[24]\tvalidation_0-rmse:13922.65265\n",
            "[25]\tvalidation_0-rmse:13804.50435\n",
            "[26]\tvalidation_0-rmse:13691.81849\n",
            "[27]\tvalidation_0-rmse:13621.45381\n",
            "[28]\tvalidation_0-rmse:13530.55961\n",
            "[29]\tvalidation_0-rmse:13434.10924\n",
            "[30]\tvalidation_0-rmse:13352.33054\n",
            "[31]\tvalidation_0-rmse:13270.07760\n",
            "[32]\tvalidation_0-rmse:13199.86108\n",
            "[33]\tvalidation_0-rmse:13131.77191\n",
            "[34]\tvalidation_0-rmse:13067.00324\n",
            "[35]\tvalidation_0-rmse:13015.82028\n",
            "[36]\tvalidation_0-rmse:12964.01777\n",
            "[37]\tvalidation_0-rmse:12921.12182\n",
            "[38]\tvalidation_0-rmse:12886.84244\n",
            "[39]\tvalidation_0-rmse:12844.99816\n",
            "[40]\tvalidation_0-rmse:12810.02695\n",
            "[41]\tvalidation_0-rmse:12776.53683\n",
            "[42]\tvalidation_0-rmse:12746.13105\n",
            "[43]\tvalidation_0-rmse:12708.48266\n",
            "[44]\tvalidation_0-rmse:12681.53954\n",
            "[45]\tvalidation_0-rmse:12650.42140\n",
            "[46]\tvalidation_0-rmse:12623.31903\n",
            "[47]\tvalidation_0-rmse:12604.01204\n",
            "[48]\tvalidation_0-rmse:12580.93418\n",
            "[49]\tvalidation_0-rmse:12561.04781\n",
            "[50]\tvalidation_0-rmse:12536.00623\n",
            "[51]\tvalidation_0-rmse:12522.51518\n",
            "[52]\tvalidation_0-rmse:12502.06536\n",
            "[53]\tvalidation_0-rmse:12489.20697\n",
            "[54]\tvalidation_0-rmse:12470.61572\n",
            "[55]\tvalidation_0-rmse:12456.04450\n",
            "[56]\tvalidation_0-rmse:12445.98497\n",
            "[57]\tvalidation_0-rmse:12435.02362\n",
            "[58]\tvalidation_0-rmse:12422.79081\n",
            "[59]\tvalidation_0-rmse:12411.88635\n",
            "[60]\tvalidation_0-rmse:12400.86904\n",
            "[61]\tvalidation_0-rmse:12389.13907\n",
            "[62]\tvalidation_0-rmse:12380.54735\n",
            "[63]\tvalidation_0-rmse:12372.17737\n",
            "[64]\tvalidation_0-rmse:12365.71620\n",
            "[65]\tvalidation_0-rmse:12356.01958\n",
            "[66]\tvalidation_0-rmse:12352.76017\n",
            "[67]\tvalidation_0-rmse:12344.74130\n",
            "[68]\tvalidation_0-rmse:12337.33111\n",
            "[69]\tvalidation_0-rmse:12332.40567\n",
            "[70]\tvalidation_0-rmse:12324.40514\n",
            "[71]\tvalidation_0-rmse:12320.62082\n",
            "[72]\tvalidation_0-rmse:12317.22779\n",
            "[73]\tvalidation_0-rmse:12313.86415\n",
            "[74]\tvalidation_0-rmse:12309.63982\n",
            "[75]\tvalidation_0-rmse:12303.71114\n",
            "[76]\tvalidation_0-rmse:12297.71727\n",
            "[77]\tvalidation_0-rmse:12291.45757\n",
            "[78]\tvalidation_0-rmse:12289.04532\n",
            "[79]\tvalidation_0-rmse:12283.94856\n",
            "[80]\tvalidation_0-rmse:12282.81473\n",
            "[81]\tvalidation_0-rmse:12278.81886\n",
            "[82]\tvalidation_0-rmse:12275.90354\n",
            "[83]\tvalidation_0-rmse:12270.79748\n",
            "[84]\tvalidation_0-rmse:12268.30205\n",
            "[85]\tvalidation_0-rmse:12263.56866\n",
            "[86]\tvalidation_0-rmse:12262.43665\n",
            "[87]\tvalidation_0-rmse:12260.11650\n",
            "[88]\tvalidation_0-rmse:12256.58946\n",
            "[89]\tvalidation_0-rmse:12253.65564\n",
            "[90]\tvalidation_0-rmse:12252.36606\n",
            "[91]\tvalidation_0-rmse:12248.21841\n",
            "[92]\tvalidation_0-rmse:12245.58552\n",
            "[93]\tvalidation_0-rmse:12241.73076\n",
            "[94]\tvalidation_0-rmse:12240.55756\n",
            "[95]\tvalidation_0-rmse:12236.79619\n",
            "[96]\tvalidation_0-rmse:12234.17398\n",
            "[97]\tvalidation_0-rmse:12231.24160\n",
            "[98]\tvalidation_0-rmse:12230.45432\n",
            "[99]\tvalidation_0-rmse:12226.96126\n",
            "[100]\tvalidation_0-rmse:12223.96790\n",
            "[101]\tvalidation_0-rmse:12223.41665\n",
            "[102]\tvalidation_0-rmse:12220.73632\n",
            "[103]\tvalidation_0-rmse:12217.50574\n",
            "[104]\tvalidation_0-rmse:12216.72207\n",
            "[105]\tvalidation_0-rmse:12213.07570\n",
            "[106]\tvalidation_0-rmse:12212.22503\n",
            "[107]\tvalidation_0-rmse:12211.67308\n",
            "[108]\tvalidation_0-rmse:12209.10533\n",
            "[109]\tvalidation_0-rmse:12208.75818\n",
            "[110]\tvalidation_0-rmse:12205.13198\n",
            "[111]\tvalidation_0-rmse:12202.89755\n",
            "[112]\tvalidation_0-rmse:12200.64370\n",
            "[113]\tvalidation_0-rmse:12199.62358\n",
            "[114]\tvalidation_0-rmse:12197.10469\n",
            "[115]\tvalidation_0-rmse:12194.52970\n",
            "[116]\tvalidation_0-rmse:12192.82508\n",
            "[117]\tvalidation_0-rmse:12190.23685\n",
            "[118]\tvalidation_0-rmse:12189.30998\n",
            "[119]\tvalidation_0-rmse:12187.48266\n",
            "[120]\tvalidation_0-rmse:12186.27210\n",
            "[121]\tvalidation_0-rmse:12185.76158\n",
            "[122]\tvalidation_0-rmse:12184.62006\n",
            "[123]\tvalidation_0-rmse:12182.44276\n",
            "[124]\tvalidation_0-rmse:12182.14905\n",
            "[125]\tvalidation_0-rmse:12179.49839\n",
            "[126]\tvalidation_0-rmse:12178.92478\n",
            "[127]\tvalidation_0-rmse:12176.80644\n",
            "[128]\tvalidation_0-rmse:12175.95501\n",
            "[129]\tvalidation_0-rmse:12174.12686\n",
            "[130]\tvalidation_0-rmse:12172.59284\n",
            "[131]\tvalidation_0-rmse:12171.33811\n",
            "[132]\tvalidation_0-rmse:12169.80128\n",
            "[133]\tvalidation_0-rmse:12168.44046\n",
            "[134]\tvalidation_0-rmse:12167.33643\n",
            "[135]\tvalidation_0-rmse:12165.65269\n",
            "[136]\tvalidation_0-rmse:12164.34595\n",
            "[137]\tvalidation_0-rmse:12163.93886\n",
            "[138]\tvalidation_0-rmse:12163.24902\n",
            "[139]\tvalidation_0-rmse:12162.12640\n",
            "[140]\tvalidation_0-rmse:12161.17432\n",
            "[141]\tvalidation_0-rmse:12160.34682\n",
            "[142]\tvalidation_0-rmse:12159.92233\n",
            "[143]\tvalidation_0-rmse:12159.28658\n",
            "[144]\tvalidation_0-rmse:12158.66636\n",
            "[145]\tvalidation_0-rmse:12158.39346\n",
            "[146]\tvalidation_0-rmse:12157.82283\n",
            "[147]\tvalidation_0-rmse:12157.21605\n",
            "[148]\tvalidation_0-rmse:12155.76305\n",
            "[149]\tvalidation_0-rmse:12154.18809\n",
            "[150]\tvalidation_0-rmse:12153.20951\n",
            "[151]\tvalidation_0-rmse:12151.63614\n",
            "[152]\tvalidation_0-rmse:12150.92838\n",
            "[153]\tvalidation_0-rmse:12150.26763\n",
            "[154]\tvalidation_0-rmse:12148.65719\n",
            "[155]\tvalidation_0-rmse:12147.43561\n",
            "[156]\tvalidation_0-rmse:12146.32631\n",
            "[157]\tvalidation_0-rmse:12145.91923\n",
            "[158]\tvalidation_0-rmse:12145.34881\n",
            "[159]\tvalidation_0-rmse:12144.78939\n",
            "[160]\tvalidation_0-rmse:12143.39229\n",
            "[161]\tvalidation_0-rmse:12142.80532\n",
            "[162]\tvalidation_0-rmse:12142.50393\n",
            "[163]\tvalidation_0-rmse:12142.10569\n",
            "[164]\tvalidation_0-rmse:12141.12960\n",
            "[165]\tvalidation_0-rmse:12140.68772\n",
            "[166]\tvalidation_0-rmse:12140.16189\n",
            "[167]\tvalidation_0-rmse:12139.33543\n",
            "[168]\tvalidation_0-rmse:12138.27535\n",
            "[169]\tvalidation_0-rmse:12137.43395\n",
            "[170]\tvalidation_0-rmse:12136.42278\n",
            "[171]\tvalidation_0-rmse:12135.43492\n",
            "[172]\tvalidation_0-rmse:12135.03278\n",
            "[173]\tvalidation_0-rmse:12134.54338\n",
            "[174]\tvalidation_0-rmse:12134.23562\n",
            "[175]\tvalidation_0-rmse:12133.76753\n",
            "[176]\tvalidation_0-rmse:12133.39565\n",
            "[177]\tvalidation_0-rmse:12132.99843\n",
            "[178]\tvalidation_0-rmse:12132.76815\n",
            "[179]\tvalidation_0-rmse:12132.39574\n",
            "[180]\tvalidation_0-rmse:12132.07390\n",
            "[181]\tvalidation_0-rmse:12131.91370\n",
            "[182]\tvalidation_0-rmse:12131.63055\n",
            "[183]\tvalidation_0-rmse:12130.18904\n",
            "[184]\tvalidation_0-rmse:12129.86296\n",
            "[185]\tvalidation_0-rmse:12129.54630\n",
            "[186]\tvalidation_0-rmse:12129.41627\n",
            "[187]\tvalidation_0-rmse:12128.71802\n",
            "[188]\tvalidation_0-rmse:12128.66899\n",
            "[189]\tvalidation_0-rmse:12128.06457\n",
            "[190]\tvalidation_0-rmse:12127.26106\n",
            "[191]\tvalidation_0-rmse:12127.02216\n",
            "[192]\tvalidation_0-rmse:12127.06380\n",
            "[193]\tvalidation_0-rmse:12126.15638\n",
            "[194]\tvalidation_0-rmse:12126.00076\n",
            "[195]\tvalidation_0-rmse:12125.84292\n",
            "[196]\tvalidation_0-rmse:12125.81776\n",
            "[197]\tvalidation_0-rmse:12125.59268\n",
            "[198]\tvalidation_0-rmse:12125.41537\n",
            "[199]\tvalidation_0-rmse:12124.24008\n",
            "[200]\tvalidation_0-rmse:12123.57982\n",
            "[201]\tvalidation_0-rmse:12123.03987\n",
            "[202]\tvalidation_0-rmse:12122.97503\n",
            "[203]\tvalidation_0-rmse:12122.84576\n",
            "[204]\tvalidation_0-rmse:12122.57935\n",
            "[205]\tvalidation_0-rmse:12122.24231\n",
            "[206]\tvalidation_0-rmse:12121.70391\n",
            "[207]\tvalidation_0-rmse:12121.56301\n",
            "[208]\tvalidation_0-rmse:12120.86967\n",
            "[209]\tvalidation_0-rmse:12120.05068\n",
            "[210]\tvalidation_0-rmse:12120.06825\n",
            "[211]\tvalidation_0-rmse:12120.04010\n",
            "[212]\tvalidation_0-rmse:12119.61819\n",
            "[213]\tvalidation_0-rmse:12119.30488\n",
            "[214]\tvalidation_0-rmse:12119.15760\n",
            "[215]\tvalidation_0-rmse:12118.59969\n",
            "[216]\tvalidation_0-rmse:12118.19553\n",
            "[217]\tvalidation_0-rmse:12117.22825\n",
            "[218]\tvalidation_0-rmse:12116.73012\n",
            "[219]\tvalidation_0-rmse:12115.99917\n",
            "[220]\tvalidation_0-rmse:12115.43715\n",
            "[221]\tvalidation_0-rmse:12114.49343\n",
            "[222]\tvalidation_0-rmse:12114.01573\n",
            "[223]\tvalidation_0-rmse:12113.38609\n",
            "[224]\tvalidation_0-rmse:12112.73719\n",
            "[225]\tvalidation_0-rmse:12111.98284\n",
            "[226]\tvalidation_0-rmse:12111.80209\n",
            "[227]\tvalidation_0-rmse:12111.66126\n",
            "[228]\tvalidation_0-rmse:12111.22835\n",
            "[229]\tvalidation_0-rmse:12111.14776\n",
            "[230]\tvalidation_0-rmse:12110.77168\n",
            "[231]\tvalidation_0-rmse:12110.44641\n",
            "[232]\tvalidation_0-rmse:12109.60118\n",
            "[233]\tvalidation_0-rmse:12109.21600\n",
            "[234]\tvalidation_0-rmse:12109.09264\n",
            "[235]\tvalidation_0-rmse:12109.08402\n",
            "[236]\tvalidation_0-rmse:12108.17997\n",
            "[237]\tvalidation_0-rmse:12107.35676\n",
            "[238]\tvalidation_0-rmse:12107.43712\n",
            "[239]\tvalidation_0-rmse:12107.13013\n",
            "[240]\tvalidation_0-rmse:12107.02297\n",
            "[241]\tvalidation_0-rmse:12106.66711\n",
            "[242]\tvalidation_0-rmse:12106.32724\n",
            "[243]\tvalidation_0-rmse:12106.34337\n",
            "[244]\tvalidation_0-rmse:12105.81942\n",
            "[245]\tvalidation_0-rmse:12105.65519\n",
            "[246]\tvalidation_0-rmse:12105.34448\n",
            "[247]\tvalidation_0-rmse:12105.29226\n",
            "[248]\tvalidation_0-rmse:12105.32951\n",
            "[249]\tvalidation_0-rmse:12105.31705\n",
            "[250]\tvalidation_0-rmse:12105.16461\n",
            "[251]\tvalidation_0-rmse:12105.16012\n",
            "[252]\tvalidation_0-rmse:12105.26942\n",
            "[253]\tvalidation_0-rmse:12105.22940\n",
            "[254]\tvalidation_0-rmse:12105.27204\n",
            "[255]\tvalidation_0-rmse:12105.09832\n",
            "[256]\tvalidation_0-rmse:12104.96712\n",
            "[257]\tvalidation_0-rmse:12104.32070\n",
            "[258]\tvalidation_0-rmse:12103.81612\n",
            "[259]\tvalidation_0-rmse:12103.66283\n",
            "[260]\tvalidation_0-rmse:12103.69896\n",
            "[261]\tvalidation_0-rmse:12103.36762\n",
            "[262]\tvalidation_0-rmse:12103.39175\n",
            "[263]\tvalidation_0-rmse:12103.56260\n",
            "[264]\tvalidation_0-rmse:12103.47854\n",
            "[265]\tvalidation_0-rmse:12103.13861\n",
            "[266]\tvalidation_0-rmse:12102.80678\n",
            "[267]\tvalidation_0-rmse:12102.66169\n",
            "[268]\tvalidation_0-rmse:12102.53725\n",
            "[269]\tvalidation_0-rmse:12102.56283\n",
            "[270]\tvalidation_0-rmse:12101.66715\n",
            "[271]\tvalidation_0-rmse:12101.55643\n",
            "[272]\tvalidation_0-rmse:12101.51455\n",
            "[273]\tvalidation_0-rmse:12101.58272\n",
            "[274]\tvalidation_0-rmse:12100.96225\n",
            "[275]\tvalidation_0-rmse:12100.73055\n",
            "[276]\tvalidation_0-rmse:12100.79312\n",
            "[277]\tvalidation_0-rmse:12100.70081\n",
            "[278]\tvalidation_0-rmse:12100.59464\n",
            "[279]\tvalidation_0-rmse:12100.68111\n",
            "[280]\tvalidation_0-rmse:12100.42540\n",
            "[281]\tvalidation_0-rmse:12100.26600\n",
            "[282]\tvalidation_0-rmse:12100.06051\n",
            "[283]\tvalidation_0-rmse:12100.13225\n",
            "[284]\tvalidation_0-rmse:12099.83170\n",
            "[285]\tvalidation_0-rmse:12099.80048\n",
            "[286]\tvalidation_0-rmse:12099.74583\n",
            "[287]\tvalidation_0-rmse:12099.66754\n",
            "[288]\tvalidation_0-rmse:12099.57972\n",
            "[289]\tvalidation_0-rmse:12099.55439\n",
            "[290]\tvalidation_0-rmse:12099.68561\n",
            "[291]\tvalidation_0-rmse:12099.53706\n",
            "[292]\tvalidation_0-rmse:12099.49828\n",
            "[293]\tvalidation_0-rmse:12099.50423\n",
            "[294]\tvalidation_0-rmse:12099.38908\n",
            "[295]\tvalidation_0-rmse:12099.29793\n",
            "[296]\tvalidation_0-rmse:12098.59135\n",
            "[297]\tvalidation_0-rmse:12098.61001\n",
            "[298]\tvalidation_0-rmse:12097.74601\n",
            "[299]\tvalidation_0-rmse:12097.72785\n",
            "Best parameters: {'subsample': 1.0, 'reg_lambda': 0.5, 'reg_alpha': 0, 'n_estimators': 300, 'max_depth': 12, 'learning_rate': 0.05, 'colsample_bytree': 0.8}\n",
            "Best CV score: 12,153.94\n",
            "==================================================\n",
            "Model: XGBoost (Tuned)\n",
            "==================================================\n",
            "RMSE: $12,097.73\n",
            "MAE:  $8,212.78\n",
            "R²:   0.6991\n",
            "MAPE: 33.10%\n",
            "==================================================\n",
            "Checkpoint saved: model_results_tuned.pkl\n",
            "Checkpoint saved: xgboost_tuned.pkl\n"
          ]
        }
      ]
    },
    {
      "cell_type": "code",
      "source": [
        "xgb_tuned_checkpoint = load_checkpoint('xgboost_tuned.pkl')\n",
        "\n",
        "if xgb_tuned_checkpoint is not None:\n",
        "    xgb_tuned_model = xgb_tuned_checkpoint['model']\n",
        "    xgb_tuned_pred = xgb_tuned_model.predict(X_test)\n",
        "    predictions_df = pd.DataFrame({'Actual': y_test, 'Predicted': xgb_tuned_pred})\n",
        "    csv_filename = 'xgboost_tuned_predictions.csv'\n",
        "    csv_filepath = os.path.join(checkpoint_dir, csv_filename)\n",
        "    predictions_df.to_csv(csv_filepath, index=False)\n",
        "\n",
        "    print(f\"Tuned XGBoost predictions saved to {csv_filepath}\")\n",
        "else:\n",
        "    print(\"Tuned XGBoost model not found in checkpoint. Cannot save predictions.\")\n",
        "\n",
        "del xgb_tuned_model, xgb_tuned_pred, predictions_df\n",
        "gc.collect()"
      ],
      "metadata": {
        "colab": {
          "base_uri": "https://localhost:8080/"
        },
        "id": "EZn5z4fWbe4L",
        "outputId": "1d543950-0d7c-437a-c497-5c9c4a8182c0"
      },
      "execution_count": 29,
      "outputs": [
        {
          "output_type": "stream",
          "name": "stdout",
          "text": [
            "Checkpoint loaded: xgboost_tuned.pkl\n",
            "Tuned XGBoost predictions saved to /content/drive/MyDrive/demand_prediction_checkpoints/xgboost_tuned_predictions.csv\n"
          ]
        },
        {
          "output_type": "execute_result",
          "data": {
            "text/plain": [
              "225"
            ]
          },
          "metadata": {},
          "execution_count": 29
        }
      ]
    },
    {
      "cell_type": "code",
      "source": [
        "xgb_tuned_checkpoint = load_checkpoint('xgboost_tuned.pkl')\n",
        "\n",
        "if xgb_tuned_checkpoint is not None:\n",
        "    xgb_tuned_model = xgb_tuned_checkpoint['model']\n",
        "    feature_importance = pd.DataFrame({\n",
        "        'feature': X_train.columns,\n",
        "        'importance': xgb_tuned_model.feature_importances_\n",
        "    }).sort_values('importance', ascending=False)\n",
        "\n",
        "    print(\"Feature Importance (XGBoost Tuned):\")\n",
        "    print(feature_importance)\n",
        "    import matplotlib.pyplot as plt\n",
        "\n",
        "    N = 10\n",
        "    plt.figure(figsize=(10, 6))\n",
        "    plt.barh(feature_importance['feature'][:N], feature_importance['importance'][:N])\n",
        "    plt.xlabel(\"Feature Importance\")\n",
        "    plt.ylabel(\"Feature\")\n",
        "    plt.title(f\"Top {N} Feature Importances (XGBoost Tuned)\")\n",
        "    plt.gca().invert_yaxis()\n",
        "    plt.show()\n",
        "\n",
        "else:\n",
        "    print(\"Tuned XGBoost model not found in checkpoint. Cannot display feature importance.\")"
      ],
      "metadata": {
        "colab": {
          "base_uri": "https://localhost:8080/",
          "height": 790
        },
        "id": "j_WUSirjcQY8",
        "outputId": "5f7a556c-57c0-4ad1-b5b5-a9e087a70014"
      },
      "execution_count": 30,
      "outputs": [
        {
          "output_type": "stream",
          "name": "stdout",
          "text": [
            "Checkpoint loaded: xgboost_tuned.pkl\n",
            "Feature Importance (XGBoost Tuned):\n",
            "                      feature  importance\n",
            "3        Enclosure_EROPS w AC    0.240028\n",
            "1            ProductGroup_SSL    0.234062\n",
            "8                  Ripper_Yes    0.125732\n",
            "9          ProductSize_Medium    0.123399\n",
            "2           ProductSize_Large    0.099839\n",
            "5  ProductSize_Large / Medium    0.074344\n",
            "6        fiSecondaryDesc_freq    0.058329\n",
            "0      fiModelDescriptor_freq    0.025277\n",
            "7         Estimated_Hours_log    0.010622\n",
            "4            UnemploymentRate    0.008368\n"
          ]
        },
        {
          "output_type": "display_data",
          "data": {
            "text/plain": [
              "<Figure size 1000x600 with 1 Axes>"
            ],
            "image/png": "[encoded data removed]"
          },
          "metadata": {}
        }
      ]
    },
    {
      "cell_type": "code",
      "source": [
        "train_df = pd.read_csv('train_df_48_full.csv', low_memory=False)"
      ],
      "metadata": {
        "id": "SZ3n0pE2gN3E"
      },
      "execution_count": null,
      "outputs": []
    },
    {
      "cell_type": "code",
      "source": [
        "plt.figure(figsize=(10, 6))\n",
        "plt.scatter(train_df['Estimated_Hours_log'], train_df['SalePrice'], alpha=0.5)\n",
        "plt.xlabel('Estimated Hours (log scale)')\n",
        "plt.ylabel('Sale Price')\n",
        "plt.title('Sale Price vs. Estimated Hours (Log Scale)')\n",
        "plt.grid(True)\n",
        "plt.show()"
      ],
      "metadata": {
        "colab": {
          "base_uri": "https://localhost:8080/",
          "height": 228
        },
        "id": "HnAgHHvDgFYx",
        "outputId": "91cd211b-20a3-47ec-d83a-8bf8b02033f4"
      },
      "execution_count": 31,
      "outputs": [
        {
          "output_type": "error",
          "ename": "NameError",
          "evalue": "name 'train_df' is not defined",
          "traceback": [
            "\u001b[0;31m---------------------------------------------------------------------------\u001b[0m",
            "\u001b[0;31mNameError\u001b[0m                                 Traceback (most recent call last)",
            "\u001b[0;32m/tmp/ipython-input-31-1328682514.py\u001b[0m in \u001b[0;36m<cell line: 0>\u001b[0;34m()\u001b[0m\n\u001b[1;32m      1\u001b[0m \u001b[0mplt\u001b[0m\u001b[0;34m.\u001b[0m\u001b[0mfigure\u001b[0m\u001b[0;34m(\u001b[0m\u001b[0mfigsize\u001b[0m\u001b[0;34m=\u001b[0m\u001b[0;34m(\u001b[0m\u001b[0;36m10\u001b[0m\u001b[0;34m,\u001b[0m \u001b[0;36m6\u001b[0m\u001b[0;34m)\u001b[0m\u001b[0;34m)\u001b[0m\u001b[0;34m\u001b[0m\u001b[0;34m\u001b[0m\u001b[0m\n\u001b[0;32m----> 2\u001b[0;31m \u001b[0mplt\u001b[0m\u001b[0;34m.\u001b[0m\u001b[0mscatter\u001b[0m\u001b[0;34m(\u001b[0m\u001b[0mtrain_df\u001b[0m\u001b[0;34m[\u001b[0m\u001b[0;34m'Estimated_Hours_log'\u001b[0m\u001b[0;34m]\u001b[0m\u001b[0;34m,\u001b[0m \u001b[0mtrain_df\u001b[0m\u001b[0;34m[\u001b[0m\u001b[0;34m'SalePrice'\u001b[0m\u001b[0;34m]\u001b[0m\u001b[0;34m,\u001b[0m \u001b[0malpha\u001b[0m\u001b[0;34m=\u001b[0m\u001b[0;36m0.5\u001b[0m\u001b[0;34m)\u001b[0m\u001b[0;34m\u001b[0m\u001b[0;34m\u001b[0m\u001b[0m\n\u001b[0m\u001b[1;32m      3\u001b[0m \u001b[0mplt\u001b[0m\u001b[0;34m.\u001b[0m\u001b[0mxlabel\u001b[0m\u001b[0;34m(\u001b[0m\u001b[0;34m'Estimated Hours (log scale)'\u001b[0m\u001b[0;34m)\u001b[0m\u001b[0;34m\u001b[0m\u001b[0;34m\u001b[0m\u001b[0m\n\u001b[1;32m      4\u001b[0m \u001b[0mplt\u001b[0m\u001b[0;34m.\u001b[0m\u001b[0mylabel\u001b[0m\u001b[0;34m(\u001b[0m\u001b[0;34m'Sale Price'\u001b[0m\u001b[0;34m)\u001b[0m\u001b[0;34m\u001b[0m\u001b[0;34m\u001b[0m\u001b[0m\n\u001b[1;32m      5\u001b[0m \u001b[0mplt\u001b[0m\u001b[0;34m.\u001b[0m\u001b[0mtitle\u001b[0m\u001b[0;34m(\u001b[0m\u001b[0;34m'Sale Price vs. Estimated Hours (Log Scale)'\u001b[0m\u001b[0;34m)\u001b[0m\u001b[0;34m\u001b[0m\u001b[0;34m\u001b[0m\u001b[0m\n",
            "\u001b[0;31mNameError\u001b[0m: name 'train_df' is not defined"
          ]
        },
        {
          "output_type": "display_data",
          "data": {
            "text/plain": [
              "<Figure size 1000x600 with 0 Axes>"
            ]
          },
          "metadata": {}
        }
      ]
    },
    {
      "cell_type": "markdown",
      "source": [
        "## LightGBM"
      ],
      "metadata": {
        "id": "db00YdCn1iCH"
      }
    },
    {
      "cell_type": "code",
      "metadata": {
        "id": "2jQdn-EDtDsm",
        "colab": {
          "base_uri": "https://localhost:8080/"
        },
        "outputId": "f77d8df6-2869-4b69-c71d-02f044543c52"
      },
      "outputs": [
        {
          "output_type": "stream",
          "name": "stdout",
          "text": [
            "Training LightGBM...\n",
            "Training until validation scores don't improve for 10 rounds\n",
            "Did not meet early stopping. Best iteration is:\n",
            "[1000]\tvalid_0's rmse: 12445.5\n",
            "Best iteration: 1000\n",
            "Checkpoint saved: lightgbm.pkl\n"
          ]
        }
      ],
      "source": [
        "import lightgbm as lgb\n",
        "\n",
        "lgb_checkpoint = load_checkpoint('lightgbm.pkl')\n",
        "\n",
        "if lgb_checkpoint is None:\n",
        "    print(\"Training LightGBM...\")\n",
        "    lgb_params = {\n",
        "        'device': 'cpu',  # Forceing CPU mode for Colab compatibility\n",
        "        'objective': 'regression',\n",
        "        'metric': 'rmse',\n",
        "        'num_leaves': 31,\n",
        "        'learning_rate': 0.05,\n",
        "        'feature_fraction': 0.9,\n",
        "        'bagging_fraction': 0.8,\n",
        "        'bagging_freq': 5,\n",
        "        'verbose': -1,\n",
        "        'random_state': 42,\n",
        "        'num_threads': -1  # Using all available CPU threads\n",
        "    }\n",
        "    lgb_train = lgb.Dataset(X_train, y_train)\n",
        "    lgb_valid = lgb.Dataset(X_test, y_test)\n",
        "\n",
        "    lgb_model = lgb.train(\n",
        "        lgb_params,\n",
        "        lgb_train,\n",
        "        valid_sets=[lgb_valid],\n",
        "        num_boost_round=1000,\n",
        "        callbacks=[lgb.early_stopping(10), lgb.log_evaluation(0)]\n",
        "    )\n",
        "\n",
        "    print(f\"Best iteration: {lgb_model.best_iteration}\")\n",
        "\n",
        "    save_checkpoint({\n",
        "        'model': lgb_model,\n",
        "        'params': lgb_params,\n",
        "        'best_iteration': lgb_model.best_iteration\n",
        "    }, 'lightgbm.pkl')\n",
        "else:\n",
        "    import lightgbm as lgb\n",
        "    lgb_model = lgb_checkpoint['model']\n",
        "    print(f\"Loaded LightGBM from checkpoint (best iteration: {lgb_checkpoint.get('best_iteration', 'N/A')})\")"
      ],
      "execution_count": null
    },
    {
      "cell_type": "code",
      "execution_count": null,
      "metadata": {
        "id": "TzCRAMK0tDsm",
        "colab": {
          "base_uri": "https://localhost:8080/"
        },
        "outputId": "318f272f-7ed0-4154-92e2-491d8192fe65"
      },
      "outputs": [
        {
          "output_type": "stream",
          "name": "stdout",
          "text": [
            "Predictions shape: (84250,)\n"
          ]
        }
      ],
      "source": [
        "lgb_pred = lgb_model.predict(X_test, num_iteration=lgb_model.best_iteration)\n",
        "print(f\"Predictions shape: {lgb_pred.shape}\")"
      ]
    },
    {
      "cell_type": "code",
      "execution_count": null,
      "metadata": {
        "id": "ZxgAAZ3RtDsm",
        "colab": {
          "base_uri": "https://localhost:8080/"
        },
        "outputId": "26deb538-bd61-4af5-f34c-38aa2b504295"
      },
      "outputs": [
        {
          "output_type": "stream",
          "name": "stdout",
          "text": [
            "==================================================\n",
            "Model: LightGBM\n",
            "==================================================\n",
            "RMSE: $12,445.48\n",
            "MAE:  $8,601.73\n",
            "R²:   0.6815\n",
            "MAPE: 34.89%\n",
            "==================================================\n",
            "Checkpoint saved: model_results.pkl\n"
          ]
        },
        {
          "output_type": "execute_result",
          "data": {
            "text/plain": [
              "3087"
            ]
          },
          "metadata": {},
          "execution_count": 24
        }
      ],
      "source": [
        "lgb_metrics = calculate_metrics(y_test, lgb_pred, 'LightGBM')\n",
        "print_metrics(lgb_metrics)\n",
        "\n",
        "results_df = pd.concat([results_df, pd.DataFrame([{**lgb_metrics, 'timestamp': datetime.now()}])], ignore_index=True)\n",
        "save_checkpoint(results_df, 'model_results.pkl')\n",
        "\n",
        "del lgb_model, lgb_pred\n",
        "gc.collect()"
      ]
    },
    {
      "cell_type": "markdown",
      "source": [
        "## CatBoost"
      ],
      "metadata": {
        "id": "eKg4lnjw38kl"
      }
    },
    {
      "cell_type": "code",
      "execution_count": null,
      "metadata": {
        "id": "O5k4zyiitDsn",
        "colab": {
          "base_uri": "https://localhost:8080/"
        },
        "outputId": "d73f9d65-fdfd-4fef-d329-5223885387be"
      },
      "outputs": [
        {
          "output_type": "stream",
          "name": "stdout",
          "text": [
            "Collecting catboost\n",
            "  Downloading catboost-1.2.8-cp311-cp311-manylinux2014_x86_64.whl.metadata (1.2 kB)\n",
            "Requirement already satisfied: graphviz in /usr/local/lib/python3.11/dist-packages (from catboost) (0.21)\n",
            "Requirement already satisfied: matplotlib in /usr/local/lib/python3.11/dist-packages (from catboost) (3.10.0)\n",
            "Requirement already satisfied: numpy<3.0,>=1.16.0 in /usr/local/lib/python3.11/dist-packages (from catboost) (2.0.2)\n",
            "Requirement already satisfied: pandas>=0.24 in /usr/local/lib/python3.11/dist-packages (from catboost) (2.2.2)\n",
            "Requirement already satisfied: scipy in /usr/local/lib/python3.11/dist-packages (from catboost) (1.15.3)\n",
            "Requirement already satisfied: plotly in /usr/local/lib/python3.11/dist-packages (from catboost) (5.24.1)\n",
            "Requirement already satisfied: six in /usr/local/lib/python3.11/dist-packages (from catboost) (1.17.0)\n",
            "Requirement already satisfied: python-dateutil>=2.8.2 in /usr/local/lib/python3.11/dist-packages (from pandas>=0.24->catboost) (2.9.0.post0)\n",
            "Requirement already satisfied: pytz>=2020.1 in /usr/local/lib/python3.11/dist-packages (from pandas>=0.24->catboost) (2025.2)\n",
            "Requirement already satisfied: tzdata>=2022.7 in /usr/local/lib/python3.11/dist-packages (from pandas>=0.24->catboost) (2025.2)\n",
            "Requirement already satisfied: contourpy>=1.0.1 in /usr/local/lib/python3.11/dist-packages (from matplotlib->catboost) (1.3.2)\n",
            "Requirement already satisfied: cycler>=0.10 in /usr/local/lib/python3.11/dist-packages (from matplotlib->catboost) (0.12.1)\n",
            "Requirement already satisfied: fonttools>=4.22.0 in /usr/local/lib/python3.11/dist-packages (from matplotlib->catboost) (4.58.4)\n",
            "Requirement already satisfied: kiwisolver>=1.3.1 in /usr/local/lib/python3.11/dist-packages (from matplotlib->catboost) (1.4.8)\n",
            "Requirement already satisfied: packaging>=20.0 in /usr/local/lib/python3.11/dist-packages (from matplotlib->catboost) (24.2)\n",
            "Requirement already satisfied: pillow>=8 in /usr/local/lib/python3.11/dist-packages (from matplotlib->catboost) (11.2.1)\n",
            "Requirement already satisfied: pyparsing>=2.3.1 in /usr/local/lib/python3.11/dist-packages (from matplotlib->catboost) (3.2.3)\n",
            "Requirement already satisfied: tenacity>=6.2.0 in /usr/local/lib/python3.11/dist-packages (from plotly->catboost) (9.1.2)\n",
            "Downloading catboost-1.2.8-cp311-cp311-manylinux2014_x86_64.whl (99.2 MB)\n",
            "\u001b[2K   \u001b[90m━━━━━━━━━━━━━━━━━━━━━━━━━━━━━━━━━━━━━━━━\u001b[0m \u001b[32m99.2/99.2 MB\u001b[0m \u001b[31m22.6 MB/s\u001b[0m eta \u001b[36m0:00:00\u001b[0m\n",
            "\u001b[?25hInstalling collected packages: catboost\n",
            "Successfully installed catboost-1.2.8\n",
            "Training CatBoost with GPU...\n",
            "Best iteration: 999\n",
            "Checkpoint saved: catboost.pkl\n"
          ]
        }
      ],
      "source": [
        "cb_checkpoint = load_checkpoint('catboost.pkl')\n",
        "from catboost import CatBoostRegressor\n",
        "\n",
        "if cb_checkpoint is None:\n",
        "    print(\"Training CatBoost with GPU...\")\n",
        "    gpu_available = torch.cuda.is_available()\n",
        "\n",
        "    cb_params = {\n",
        "        'iterations': 1000,\n",
        "        'learning_rate': 0.1,\n",
        "        'depth': 10,\n",
        "        'loss_function': 'RMSE',\n",
        "        'random_state': 42,\n",
        "        'verbose': False\n",
        "    }\n",
        "    if gpu_available:\n",
        "        cb_params.update({\n",
        "            'task_type': 'GPU',\n",
        "            'devices': '0'\n",
        "        })\n",
        "    cb_model = CatBoostRegressor(**cb_params)\n",
        "    cb_model.fit(\n",
        "        X_train, y_train,\n",
        "        eval_set=(X_test, y_test),\n",
        "        early_stopping_rounds=10,\n",
        "        verbose=False\n",
        "    )\n",
        "\n",
        "    print(f\"Best iteration: {cb_model.best_iteration_}\")\n",
        "\n",
        "    save_checkpoint({\n",
        "        'model': cb_model,\n",
        "        'params': cb_params,\n",
        "        'best_iteration': cb_model.best_iteration_\n",
        "    }, 'catboost.pkl')\n",
        "else:\n",
        "    from catboost import CatBoostRegressor\n",
        "    cb_model = cb_checkpoint['model']\n",
        "    print(f\"Loaded CatBoost from checkpoint (best iteration: {cb_checkpoint.get('best_iteration', 'N/A')})\")"
      ]
    },
    {
      "cell_type": "code",
      "execution_count": null,
      "metadata": {
        "id": "wLuVy6KNtDsq",
        "colab": {
          "base_uri": "https://localhost:8080/"
        },
        "outputId": "dad0ce72-62e7-44b0-bf10-0dffc58714ac"
      },
      "outputs": [
        {
          "output_type": "stream",
          "name": "stdout",
          "text": [
            "Predictions shape: (84250,)\n"
          ]
        }
      ],
      "source": [
        "cb_pred = cb_model.predict(X_test)\n",
        "print(f\"Predictions shape: {cb_pred.shape}\")"
      ]
    },
    {
      "cell_type": "code",
      "execution_count": null,
      "metadata": {
        "id": "EGRdU67itDsq",
        "colab": {
          "base_uri": "https://localhost:8080/"
        },
        "outputId": "c57298ea-3e04-427d-a254-f933d97a44ef"
      },
      "outputs": [
        {
          "output_type": "stream",
          "name": "stdout",
          "text": [
            "==================================================\n",
            "Model: CatBoost\n",
            "==================================================\n",
            "RMSE: $12,297.45\n",
            "MAE:  $8,462.33\n",
            "R²:   0.6891\n",
            "MAPE: 34.28%\n",
            "==================================================\n",
            "Checkpoint saved: model_results.pkl\n"
          ]
        },
        {
          "output_type": "execute_result",
          "data": {
            "text/plain": [
              "0"
            ]
          },
          "metadata": {},
          "execution_count": 27
        }
      ],
      "source": [
        "cb_metrics = calculate_metrics(y_test, cb_pred, 'CatBoost')\n",
        "print_metrics(cb_metrics)\n",
        "\n",
        "results_df = pd.concat([results_df, pd.DataFrame([{**cb_metrics, 'timestamp': datetime.now()}])], ignore_index=True)\n",
        "save_checkpoint(results_df, 'model_results.pkl')\n",
        "\n",
        "del cb_model, cb_pred\n",
        "gc.collect()"
      ]
    },
    {
      "cell_type": "markdown",
      "source": [
        "# Neural Network"
      ],
      "metadata": {
        "id": "3t-_wLxV4gez"
      }
    },
    {
      "cell_type": "code",
      "source": [
        "import torch\n",
        "import torch.nn as nn\n",
        "from torch.utils.data import DataLoader, TensorDataset"
      ],
      "metadata": {
        "id": "-sZlKmgc4pHh"
      },
      "execution_count": null,
      "outputs": []
    },
    {
      "cell_type": "code",
      "execution_count": null,
      "metadata": {
        "id": "1fu5ui9VtDsq"
      },
      "outputs": [],
      "source": [
        "class DemandNN(nn.Module):\n",
        "    def __init__(self, input_size):\n",
        "        super(DemandNN, self).__init__()\n",
        "        self.fc1 = nn.Linear(input_size, 128)\n",
        "        self.fc2 = nn.Linear(128, 64)\n",
        "        self.fc3 = nn.Linear(64, 32)\n",
        "        self.fc4 = nn.Linear(32, 1)\n",
        "        self.relu = nn.ReLU()\n",
        "        self.dropout = nn.Dropout(0.2)\n",
        "    def forward(self, x):\n",
        "        x = self.relu(self.fc1(x))\n",
        "        x = self.dropout(x)\n",
        "        x = self.relu(self.fc2(x))\n",
        "        x = self.dropout(x)\n",
        "        x = self.relu(self.fc3(x))\n",
        "        x = self.fc4(x)\n",
        "        return x"
      ]
    },
    {
      "cell_type": "code",
      "execution_count": null,
      "metadata": {
        "id": "NWi0GQG8tDsq",
        "colab": {
          "base_uri": "https://localhost:8080/"
        },
        "outputId": "9c4401e5-43a1-46d9-ba3c-96208bb944d1"
      },
      "outputs": [
        {
          "output_type": "stream",
          "name": "stdout",
          "text": [
            "Training Neural Network on GPU...\n",
            "Using device: cuda\n",
            "Training...\n",
            "Epoch [10/100], Train Loss: 268905699.3652, Val Loss: 259120384.0000\n",
            "Epoch [20/100], Train Loss: 267352000.1579, Val Loss: 257026816.0000\n",
            "Epoch [30/100], Train Loss: 267111200.0972, Val Loss: 256508528.0000\n",
            "Epoch [40/100], Train Loss: 266357220.5194, Val Loss: 256134400.0000\n",
            "Epoch [50/100], Train Loss: 266187569.4822, Val Loss: 255855728.0000\n",
            "Epoch [60/100], Train Loss: 265714215.6659, Val Loss: 255923040.0000\n",
            "Epoch [70/100], Train Loss: 265652392.0182, Val Loss: 255483296.0000\n",
            "Epoch [80/100], Train Loss: 265815041.3242, Val Loss: 255463312.0000\n",
            "Epoch [90/100], Train Loss: 265831086.5057, Val Loss: 255444912.0000\n",
            "Early stopping at epoch 96\n",
            "Checkpoint saved: neural_network.pkl\n",
            "Training complete. Best validation loss: 255402736.0000\n"
          ]
        }
      ],
      "source": [
        "nn_checkpoint = load_checkpoint('neural_network.pkl')\n",
        "\n",
        "if nn_checkpoint is None:\n",
        "    print(\"Training Neural Network on GPU...\")\n",
        "    device = torch.device('cuda' if torch.cuda.is_available() else 'cpu')\n",
        "    print(f\"Using device: {device}\")\n",
        "    X_train_tensor = torch.FloatTensor(X_train_scaled)\n",
        "    y_train_tensor = torch.FloatTensor(y_train.values).reshape(-1, 1)\n",
        "    X_test_tensor = torch.FloatTensor(X_test_scaled)\n",
        "    y_test_tensor = torch.FloatTensor(y_test.values).reshape(-1, 1)\n",
        "    train_dataset = TensorDataset(X_train_tensor, y_train_tensor)\n",
        "    train_loader = DataLoader(train_dataset, batch_size=256, shuffle=True)\n",
        "\n",
        "    model = DemandNN(X_train_scaled.shape[1]).to(device)\n",
        "    criterion = nn.MSELoss()\n",
        "    optimizer = torch.optim.Adam(model.parameters(), lr=0.001)\n",
        "    scheduler = torch.optim.lr_scheduler.ReduceLROnPlateau(optimizer, patience=5, factor=0.5)\n",
        "    best_loss = float('inf')\n",
        "    patience = 10\n",
        "    counter = 0\n",
        "    train_losses = []\n",
        "    val_losses = []\n",
        "\n",
        "    print(\"Training...\")\n",
        "    for epoch in range(100):\n",
        "        model.train()\n",
        "        epoch_loss = 0\n",
        "        for batch_X, batch_y in train_loader:\n",
        "            batch_X, batch_y = batch_X.to(device), batch_y.to(device)\n",
        "            optimizer.zero_grad()\n",
        "            outputs = model(batch_X)\n",
        "            loss = criterion(outputs, batch_y)\n",
        "            loss.backward()\n",
        "            optimizer.step()\n",
        "            epoch_loss += loss.item()\n",
        "        avg_train_loss = epoch_loss / len(train_loader)\n",
        "        train_losses.append(avg_train_loss)\n",
        "\n",
        "        model.eval()\n",
        "        with torch.no_grad():\n",
        "            X_test_device = X_test_tensor.to(device)\n",
        "            y_test_device = y_test_tensor.to(device)\n",
        "            val_outputs = model(X_test_device)\n",
        "            val_loss = criterion(val_outputs, y_test_device).item()\n",
        "            val_losses.append(val_loss)\n",
        "\n",
        "        scheduler.step(val_loss)\n",
        "\n",
        "        if val_loss < best_loss:\n",
        "            best_loss = val_loss\n",
        "            counter = 0\n",
        "            torch.save(model.state_dict(), os.path.join(checkpoint_dir, 'nn_best_model.pth'))\n",
        "        else:\n",
        "            counter += 1\n",
        "            if counter >= patience:\n",
        "                print(f\"Early stopping at epoch {epoch+1}\")\n",
        "                break\n",
        "        if (epoch + 1) % 10 == 0:\n",
        "            print(f\"Epoch [{epoch+1}/100], Train Loss: {avg_train_loss:.4f}, Val Loss: {val_loss:.4f}\")\n",
        "\n",
        "    model.load_state_dict(torch.load(os.path.join(checkpoint_dir, 'nn_best_model.pth')))\n",
        "    save_checkpoint({\n",
        "        'model_state': model.state_dict(),\n",
        "        'input_size': X_train_scaled.shape[1],\n",
        "        'train_losses': train_losses,\n",
        "        'val_losses': val_losses,\n",
        "        'best_epoch': len(val_losses) - patience\n",
        "    }, 'neural_network.pkl')\n",
        "\n",
        "    print(f\"Training complete. Best validation loss: {best_loss:.4f}\")\n",
        "else:\n",
        "    print(\"Loading Neural Network from checkpoint...\")\n",
        "    device = torch.device('cuda' if torch.cuda.is_available() else 'cpu')\n",
        "    model = DemandNN(nn_checkpoint['input_size']).to(device)\n",
        "    model.load_state_dict(nn_checkpoint['model_state'])\n",
        "    model.eval()\n",
        "    print(f\"Loaded model from epoch {nn_checkpoint.get('best_epoch', 'N/A')}\")"
      ]
    },
    {
      "cell_type": "code",
      "execution_count": null,
      "metadata": {
        "id": "Smqe-5MWtDsq",
        "colab": {
          "base_uri": "https://localhost:8080/"
        },
        "outputId": "f064b0c9-2be0-46f0-b21a-2669defea6c4"
      },
      "outputs": [
        {
          "output_type": "stream",
          "name": "stdout",
          "text": [
            "Predictions shape: (84250,)\n"
          ]
        }
      ],
      "source": [
        "model.eval()\n",
        "with torch.no_grad():\n",
        "    X_test_tensor = torch.FloatTensor(X_test_scaled).to(device)\n",
        "    nn_pred = model(X_test_tensor).cpu().numpy().flatten()\n",
        "\n",
        "print(f\"Predictions shape: {nn_pred.shape}\")"
      ]
    },
    {
      "cell_type": "code",
      "execution_count": null,
      "metadata": {
        "id": "g7-uOrBPtDsq",
        "colab": {
          "base_uri": "https://localhost:8080/"
        },
        "outputId": "231e3802-6ab4-4531-f4b7-0997873bcfb7"
      },
      "outputs": [
        {
          "output_type": "stream",
          "name": "stdout",
          "text": [
            "==================================================\n",
            "Model: Neural Network\n",
            "==================================================\n",
            "RMSE: $15,981.33\n",
            "MAE:  $11,338.11\n",
            "R²:   0.4749\n",
            "MAPE: 46.75%\n",
            "==================================================\n",
            "Checkpoint saved: model_results.pkl\n"
          ]
        },
        {
          "output_type": "execute_result",
          "data": {
            "text/plain": [
              "0"
            ]
          },
          "metadata": {},
          "execution_count": 35
        }
      ],
      "source": [
        "nn_metrics = calculate_metrics(y_test, nn_pred, 'Neural Network')\n",
        "print_metrics(nn_metrics)\n",
        "\n",
        "results_df = pd.concat([results_df, pd.DataFrame([{**nn_metrics, 'timestamp': datetime.now()}])], ignore_index=True)\n",
        "save_checkpoint(results_df, 'model_results.pkl')\n",
        "\n",
        "del model, nn_pred\n",
        "if 'X_test_tensor' in locals():\n",
        "    del X_test_tensor\n",
        "torch.cuda.empty_cache()\n",
        "gc.collect()"
      ]
    },
    {
      "cell_type": "code",
      "source": [
        "# Improved architecture of neural network\n",
        "\n",
        "import torch\n",
        "import torch.nn as nn\n",
        "from torch.utils.data import DataLoader, TensorDataset\n",
        "\n",
        "y_train_log = np.log1p(y_train)\n",
        "y_test_log = np.log1p(y_test)\n",
        "\n",
        "print(f\"Original target range: ${y_train.min():.0f} - ${y_train.max():.0f}\")\n",
        "print(f\"Log target range: {y_train_log.min():.2f} - {y_train_log.max():.2f}\")\n",
        "\n",
        "class ImprovedDemandNN(nn.Module):\n",
        "    def __init__(self, input_size):\n",
        "        super(ImprovedDemandNN, self).__init__()\n",
        "        # More layers with batch normalization\n",
        "        self.fc1 = nn.Linear(input_size, 256)\n",
        "        self.bn1 = nn.BatchNorm1d(256)\n",
        "\n",
        "        self.fc2 = nn.Linear(256, 128)\n",
        "        self.bn2 = nn.BatchNorm1d(128)\n",
        "\n",
        "        self.fc3 = nn.Linear(128, 64)\n",
        "        self.bn3 = nn.BatchNorm1d(64)\n",
        "\n",
        "        self.fc4 = nn.Linear(64, 32)\n",
        "        self.bn4 = nn.BatchNorm1d(32)\n",
        "\n",
        "        self.fc5 = nn.Linear(32, 16)\n",
        "        self.fc6 = nn.Linear(16, 1)\n",
        "\n",
        "        self.relu = nn.ReLU()\n",
        "        self.dropout = nn.Dropout(0.3)  # Increased dropout\n",
        "\n",
        "    def forward(self, x):\n",
        "        x = self.relu(self.bn1(self.fc1(x)))\n",
        "        x = self.dropout(x)\n",
        "\n",
        "        x = self.relu(self.bn2(self.fc2(x)))\n",
        "        x = self.dropout(x)\n",
        "\n",
        "        x = self.relu(self.bn3(self.fc3(x)))\n",
        "        x = self.dropout(x)\n",
        "\n",
        "        x = self.relu(self.bn4(self.fc4(x)))\n",
        "        x = self.dropout(x)\n",
        "\n",
        "        x = self.relu(self.fc5(x))\n",
        "        x = self.fc6(x)\n",
        "        return x"
      ],
      "metadata": {
        "colab": {
          "base_uri": "https://localhost:8080/"
        },
        "id": "31bZfRSqP-TD",
        "outputId": "e8b65daa-4258-4d5b-d2b8-27d9ed7f3e3e"
      },
      "execution_count": 25,
      "outputs": [
        {
          "output_type": "stream",
          "name": "stdout",
          "text": [
            "Original target range: $4750 - $142000\n",
            "Log target range: 8.47 - 11.86\n"
          ]
        }
      ]
    },
    {
      "cell_type": "code",
      "source": [
        "device = torch.device('cuda' if torch.cuda.is_available() else 'cpu')\n",
        "X_train_tensor = torch.FloatTensor(X_train_scaled)\n",
        "y_train_tensor = torch.FloatTensor(y_train_log.values).reshape(-1, 1)\n",
        "X_test_tensor = torch.FloatTensor(X_test_scaled)\n",
        "y_test_tensor = torch.FloatTensor(y_test_log.values).reshape(-1, 1)\n",
        "\n",
        "train_dataset = TensorDataset(X_train_tensor, y_train_tensor)\n",
        "train_loader = DataLoader(train_dataset, batch_size=512, shuffle=True)  # Larger batch size\n",
        "model = ImprovedDemandNN(X_train_scaled.shape[1]).to(device)\n",
        "\n",
        "# Trying both MSE and MAE loss\n",
        "criterion_mse = nn.MSELoss()\n",
        "criterion_mae = nn.L1Loss()\n",
        "\n",
        "# Using Adam with weight decay\n",
        "optimizer = torch.optim.Adam(model.parameters(), lr=0.001, weight_decay=1e-5)\n",
        "\n",
        "# Learning rate scheduler\n",
        "scheduler = torch.optim.lr_scheduler.ReduceLROnPlateau(\n",
        "    optimizer, patience=10, factor=0.5, verbose=True\n",
        ")\n",
        "\n",
        "# Training with early stopping\n",
        "best_loss = float('inf')\n",
        "patience = 20\n",
        "counter = 0\n",
        "train_losses = []\n",
        "val_losses = []\n",
        "\n",
        "for epoch in range(200):  # More epochs\n",
        "    model.train()\n",
        "    epoch_loss = 0\n",
        "    for batch_X, batch_y in train_loader:\n",
        "        batch_X, batch_y = batch_X.to(device), batch_y.to(device)\n",
        "\n",
        "        optimizer.zero_grad()\n",
        "        outputs = model(batch_X)\n",
        "        loss = criterion_mse(outputs, batch_y)  # Using MSE\n",
        "        loss.backward()\n",
        "        optimizer.step()\n",
        "\n",
        "        epoch_loss += loss.item()\n",
        "\n",
        "    avg_train_loss = epoch_loss / len(train_loader)\n",
        "    train_losses.append(avg_train_loss)\n",
        "\n",
        "    model.eval()\n",
        "    with torch.no_grad():\n",
        "        X_test_device = X_test_tensor.to(device)\n",
        "        y_test_device = y_test_tensor.to(device)\n",
        "        val_outputs = model(X_test_device)\n",
        "        val_loss = criterion_mse(val_outputs, y_test_device).item()\n",
        "        val_losses.append(val_loss)\n",
        "    scheduler.step(val_loss)\n",
        "    if val_loss < best_loss:\n",
        "        best_loss = val_loss\n",
        "        counter = 0\n",
        "        torch.save(model.state_dict(), os.path.join(checkpoint_dir, 'nn_best_model_tuned.pth'))\n",
        "    else:\n",
        "        counter += 1\n",
        "        if counter >= patience:\n",
        "            print(f\"Early stopping at epoch {epoch+1}\")\n",
        "            break\n",
        "    if (epoch + 1) % 20 == 0:\n",
        "        print(f\"Epoch [{epoch+1}/200], Train Loss: {avg_train_loss:.6f}, Val Loss: {val_loss:.6f}\")\n",
        "\n",
        "model.load_state_dict(torch.load(os.path.join(checkpoint_dir, 'nn_best_model_tuned.pth')))\n",
        "model.eval()\n",
        "with torch.no_grad():\n",
        "    X_test_device = X_test_tensor.to(device)\n",
        "    nn_pred_log = model(X_test_device).cpu().numpy().flatten()\n",
        "    nn_pred = np.expm1(nn_pred_log)  # gotta transform back from log!\n",
        "\n",
        "nn_metrics = calculate_metrics(y_test, nn_pred, 'Neural Network (Improved)')\n",
        "print_metrics(nn_metrics)\n",
        "\n",
        "results_df = pd.concat([results_df, pd.DataFrame([{\n",
        "    **nn_metrics,\n",
        "    'timestamp': datetime.now(),\n",
        "    'params': 'More layers, BatchNorm, log transformation, larger batch size'\n",
        "}])], ignore_index=True)\n",
        "\n",
        "save_checkpoint(results_df, 'model_results_tuned.pkl')\n",
        "save_checkpoint({\n",
        "    'model_state': model.state_dict(),\n",
        "    'input_size': X_train_scaled.shape[1],\n",
        "    'train_losses': train_losses,\n",
        "    'val_losses': val_losses,\n",
        "    'architecture': 'ImprovedDemandNN',\n",
        "    'use_log_transform': True\n",
        "}, 'neural_network_tuned.pkl')"
      ],
      "metadata": {
        "colab": {
          "base_uri": "https://localhost:8080/"
        },
        "id": "aLyxRpojQQUH",
        "outputId": "bbc1791a-f9cf-4347-8264-531d13158e31"
      },
      "execution_count": 26,
      "outputs": [
        {
          "output_type": "stream",
          "name": "stdout",
          "text": [
            "Epoch [20/200], Train Loss: 0.202261, Val Loss: 0.199039\n",
            "Epoch [40/200], Train Loss: 0.194245, Val Loss: 0.188877\n",
            "Epoch [60/200], Train Loss: 0.190119, Val Loss: 0.182845\n",
            "Epoch [80/200], Train Loss: 0.188072, Val Loss: 0.180296\n",
            "Epoch [100/200], Train Loss: 0.186364, Val Loss: 0.180786\n",
            "Epoch [120/200], Train Loss: 0.185844, Val Loss: 0.180426\n",
            "Early stopping at epoch 124\n",
            "==================================================\n",
            "Model: Neural Network (Improved)\n",
            "==================================================\n",
            "RMSE: $14,928.51\n",
            "MAE:  $9,865.18\n",
            "R²:   0.5418\n",
            "MAPE: 34.91%\n",
            "==================================================\n",
            "Checkpoint saved: model_results_tuned.pkl\n",
            "Checkpoint saved: neural_network_tuned.pkl\n"
          ]
        }
      ]
    },
    {
      "cell_type": "markdown",
      "metadata": {
        "id": "4sWt2LGhtDsq"
      },
      "source": [
        "# Model Comparison Summary"
      ]
    },
    {
      "cell_type": "code",
      "execution_count": null,
      "metadata": {
        "id": "WRMUOJ87tDsr",
        "colab": {
          "base_uri": "https://localhost:8080/"
        },
        "outputId": "16721332-ed5c-4870-be76-04de770f6fb6"
      },
      "outputs": [
        {
          "output_type": "stream",
          "name": "stdout",
          "text": [
            "Checkpoint loaded: model_results.pkl\n",
            "\n",
            "================================================================================\n",
            "FINAL MODEL COMPARISON\n",
            "================================================================================\n",
            "\n",
            "Model                        RMSE          MAE       R²     MAPE\n",
            "----------------------------------------------------------------------\n",
            "Random Forest        $  12,261.98 $   8,322.52   0.6909   33.31%\n",
            "XGBoost              $  12,280.46 $   8,413.97   0.6899   33.97%\n",
            "CatBoost             $  12,297.45 $   8,462.33   0.6891   34.28%\n",
            "LightGBM             $  12,445.48 $   8,601.73   0.6815   34.89%\n",
            "Decision Tree        $  12,545.07 $   8,508.08   0.6764   33.88%\n",
            "Neural Network       $  15,981.33 $  11,338.11   0.4749   46.75%\n",
            "Linear Regression    $  16,470.23 $  11,863.15   0.4423   49.75%\n",
            "\n",
            "================================================================================\n",
            "BEST MODEL: Random Forest\n",
            "RMSE: $12,261.98\n",
            "================================================================================\n",
            "Checkpoint saved: best_model_info.pkl\n"
          ]
        }
      ],
      "source": [
        "results_df = load_checkpoint('model_results.pkl')\n",
        "results_df = results_df.sort_values('timestamp').drop_duplicates(subset=['model'], keep='last')\n",
        "\n",
        "# Sort by RMSE (best to worst)\n",
        "results_df = results_df.sort_values('rmse')\n",
        "\n",
        "print(\"\\n\" + \"=\"*80)\n",
        "print(\"FINAL MODEL COMPARISON\")\n",
        "print(\"=\"*80)\n",
        "print(f\"\\n{'Model':<20} {'RMSE':>12} {'MAE':>12} {'R²':>8} {'MAPE':>8}\")\n",
        "print(\"-\"*70)\n",
        "\n",
        "for _, row in results_df.iterrows():\n",
        "    print(f\"{row['model']:<20} ${row['rmse']:>11,.2f} ${row['mae']:>11,.2f} {row['r2']:>8.4f} {row['mape']:>7.2f}%\")\n",
        "\n",
        "best_model_idx = results_df['rmse'].idxmin()\n",
        "best_model_name = results_df.loc[best_model_idx, 'model']\n",
        "\n",
        "print(\"\\n\" + \"=\"*80)\n",
        "print(f\"BEST MODEL: {best_model_name}\")\n",
        "print(f\"RMSE: ${results_df.loc[best_model_idx, 'rmse']:,.2f}\")\n",
        "print(\"=\"*80)\n",
        "\n",
        "save_checkpoint({\n",
        "    'best_model': best_model_name,\n",
        "    'best_metrics': results_df.loc[best_model_idx].to_dict()\n",
        "}, 'best_model_info.pkl')"
      ]
    },
    {
      "cell_type": "code",
      "execution_count": null,
      "metadata": {
        "id": "YjVv_FFdtDsr",
        "colab": {
          "base_uri": "https://localhost:8080/"
        },
        "outputId": "252c7ec4-ef1f-4df3-fa64-6be84270fca6"
      },
      "outputs": [
        {
          "output_type": "stream",
          "name": "stdout",
          "text": [
            "Loading validation data...\n",
            "Validation data shape: (11573, 11)\n",
            "\n",
            "Columns: ['SalesID', 'fiModelDescriptor_freq', 'ProductSize_Large / Medium', 'ProductGroup_SSL', 'Ripper_Yes', 'ProductSize_Medium', 'ProductSize_Large', 'Enclosure_EROPS w AC', 'UnemploymentRate', 'fiSecondaryDesc_freq', 'Estimated_Hours_log']\n"
          ]
        }
      ],
      "source": [
        "print(\"Loading validation data...\")\n",
        "\n",
        "valid_df = pd.read_csv('/content/drive/MyDrive/data/valid_df_MR_lite.csv')\n",
        "\n",
        "print(f\"Validation data shape: {valid_df.shape}\")\n",
        "print(f\"\\nColumns: {list(valid_df.columns)}\")\n",
        "\n",
        "sales_ids = valid_df['SalesID']\n",
        "X_valid = valid_df.drop('SalesID', axis=1)"
      ]
    },
    {
      "cell_type": "code",
      "source": [
        "print(X_valid.dtypes)"
      ],
      "metadata": {
        "colab": {
          "base_uri": "https://localhost:8080/"
        },
        "id": "vShcQegL751i",
        "outputId": "0a794070-88b5-4425-de6f-4950a23ac239"
      },
      "execution_count": null,
      "outputs": [
        {
          "output_type": "stream",
          "name": "stdout",
          "text": [
            "fiModelDescriptor_freq          int64\n",
            "ProductSize_Large / Medium      int64\n",
            "ProductGroup_SSL                int64\n",
            "Ripper_Yes                      int64\n",
            "ProductSize_Medium              int64\n",
            "ProductSize_Large               int64\n",
            "Enclosure_EROPS w AC            int64\n",
            "UnemploymentRate              float64\n",
            "fiSecondaryDesc_freq            int64\n",
            "Estimated_Hours_log           float64\n",
            "dtype: object\n"
          ]
        }
      ]
    },
    {
      "cell_type": "code",
      "source": [
        "# Reordering...\n",
        "X_valid = X_valid[feature_names]\n",
        "\n",
        "print(\"Validation features after reordering:\")\n",
        "print(list(X_valid.columns))"
      ],
      "metadata": {
        "colab": {
          "base_uri": "https://localhost:8080/"
        },
        "id": "E8qRZsZF8wPX",
        "outputId": "d3b80a46-fc02-4ed2-b61b-c2e4a2c9e498"
      },
      "outputs": [
        {
          "output_type": "stream",
          "name": "stdout",
          "text": [
            "Validation features after reordering:\n",
            "['fiModelDescriptor_freq', 'ProductGroup_SSL', 'ProductSize_Large', 'Enclosure_EROPS w AC', 'UnemploymentRate', 'ProductSize_Large / Medium', 'fiSecondaryDesc_freq', 'Estimated_Hours_log', 'Ripper_Yes', 'ProductSize_Medium']\n",
            "Column order fixed!\n"
          ]
        }
      ],
      "execution_count": null
    },
    {
      "cell_type": "markdown",
      "metadata": {
        "id": "F72ZPBbMtDsr"
      },
      "source": [
        "## Predictions with Best Model"
      ]
    },
    {
      "cell_type": "code",
      "execution_count": null,
      "metadata": {
        "id": "6N6mVoCGtDsr",
        "colab": {
          "base_uri": "https://localhost:8080/"
        },
        "outputId": "a475ad37-80a4-43d0-e690-21a706d8f4cc"
      },
      "outputs": [
        {
          "output_type": "stream",
          "name": "stdout",
          "text": [
            "Checkpoint loaded: best_model_info.pkl\n",
            "Generating predictions with Random Forest...\n",
            "Checkpoint loaded: random_forest.pkl\n",
            "\n",
            "Predictions generated: 11573 samples\n",
            "Prediction range: $7,599 - $100,969\n",
            "Average prediction: $38,909\n"
          ]
        }
      ],
      "source": [
        "best_model_info = load_checkpoint('best_model_info.pkl')\n",
        "best_model_name = best_model_info['best_model']\n",
        "\n",
        "print(f\"Generating predictions with {best_model_name}...\")\n",
        "\n",
        "if best_model_name == 'Linear Regression':\n",
        "    model_data = load_checkpoint('linear_regression.pkl')\n",
        "    model = model_data['model']\n",
        "    X_valid_scaled = scaler.transform(X_valid)\n",
        "    predictions = model.predict(X_valid_scaled)\n",
        "\n",
        "elif best_model_name == 'Decision Tree':\n",
        "    model_data = load_checkpoint('decision_tree.pkl')\n",
        "    model = model_data['model']\n",
        "    predictions = model.predict(X_valid)\n",
        "\n",
        "elif best_model_name == 'Random Forest':\n",
        "    model_data = load_checkpoint('random_forest.pkl')\n",
        "    model = model_data['model']\n",
        "    predictions = model.predict(X_valid)\n",
        "\n",
        "elif best_model_name == 'XGBoost':\n",
        "    import xgboost as xgb\n",
        "    model_data = load_checkpoint('xgboost.pkl')\n",
        "    model = model_data['model']\n",
        "    predictions = model.predict(X_valid)\n",
        "\n",
        "elif best_model_name == 'LightGBM':\n",
        "    import lightgbm as lgb\n",
        "    model_data = load_checkpoint('lightgbm.pkl')\n",
        "    model = model_data['model']\n",
        "    predictions = model.predict(X_valid, num_iteration=model.best_iteration)\n",
        "\n",
        "elif best_model_name == 'CatBoost':\n",
        "    from catboost import CatBoostRegressor\n",
        "    model_data = load_checkpoint('catboost.pkl')\n",
        "    model = model_data['model']\n",
        "    predictions = model.predict(X_valid)\n",
        "\n",
        "elif best_model_name == 'Neural Network':\n",
        "    nn_data = load_checkpoint('neural_network.pkl')\n",
        "    device = torch.device('cuda' if torch.cuda.is_available() else 'cpu')\n",
        "    model = DemandNN(nn_data['input_size']).to(device)\n",
        "    model.load_state_dict(nn_data['model_state'])\n",
        "    model.eval()\n",
        "    X_valid_scaled = scaler.transform(X_valid)\n",
        "    with torch.no_grad():\n",
        "        X_valid_tensor = torch.FloatTensor(X_valid_scaled).to(device)\n",
        "        predictions = model(X_valid_tensor).cpu().numpy().flatten()\n",
        "\n",
        "print(f\"Predictions generated: {len(predictions)} samples\")\n",
        "print(f\"Prediction range: ${predictions.min():,.0f} - ${predictions.max():,.0f}\")\n",
        "print(f\"Average prediction: ${predictions.mean():,.0f}\")"
      ]
    },
    {
      "cell_type": "markdown",
      "metadata": {
        "id": "iBZSiVqStDsr"
      },
      "source": [
        "## Saving Results & Submission File"
      ]
    },
    {
      "cell_type": "code",
      "execution_count": null,
      "metadata": {
        "id": "hn3yYypRtDsr",
        "colab": {
          "base_uri": "https://localhost:8080/"
        },
        "outputId": "c9bad22d-6043-43cf-c5c5-872441a3759c"
      },
      "outputs": [
        {
          "output_type": "stream",
          "name": "stdout",
          "text": [
            "Predictions saved to: /content/drive/MyDrive/demand_predictions.csv\n",
            "Checkpoint saved: final_predictions.pkl\n",
            "Best Model: Random Forest\n",
            "Best RMSE: $12,261.98\n",
            "All checkpoints saved to: /content/drive/MyDrive/demand_prediction_checkpoints/\n",
            "Predictions saved to: /content/drive/MyDrive/demand_predictions.csv\n"
          ]
        }
      ],
      "source": [
        "submission_df = pd.DataFrame({\n",
        "    'SalesID': sales_ids,\n",
        "    'SalePrice': predictions\n",
        "})\n",
        "\n",
        "# Save to CSV\n",
        "submission_path = '/content/drive/MyDrive/demand_predictions.csv'\n",
        "submission_df.to_csv(submission_path, index=False)\n",
        "print(f\"Predictions saved to: {submission_path}\")\n",
        "save_checkpoint(submission_df, 'final_predictions.pkl')\n",
        "\n",
        "summary = {\n",
        "    'model_results': results_df.to_dict('records'),\n",
        "    'best_model': best_model_name,\n",
        "    'best_metrics': best_model_info['best_metrics'],\n",
        "    'feature_names': list(X_train.columns),\n",
        "    'data_shapes': {\n",
        "        'train': X_train.shape,\n",
        "        'test': X_test.shape,\n",
        "        'validation': X_valid.shape\n",
        "    },\n",
        "    'prediction_summary': {\n",
        "        'count': len(predictions),\n",
        "        'mean': float(predictions.mean()),\n",
        "        'std': float(predictions.std()),\n",
        "        'min': float(predictions.min()),\n",
        "        'max': float(predictions.max())\n",
        "    },\n",
        "    'timestamp': datetime.now().isoformat()\n",
        "}\n",
        "\n",
        "\n",
        "print(f\"Best Model: {best_model_name}\")\n",
        "print(f\"Best RMSE: ${best_model_info['best_metrics']['rmse']:,.2f}\")\n",
        "print(f\"All checkpoints saved to: {checkpoint_dir}\")\n",
        "print(f\"Predictions saved to: {submission_path}\")"
      ]
    }
  ]
}